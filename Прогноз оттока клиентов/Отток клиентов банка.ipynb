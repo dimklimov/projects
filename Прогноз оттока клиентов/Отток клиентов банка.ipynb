{
 "cells": [
  {
   "cell_type": "markdown",
   "metadata": {
    "toc": true
   },
   "source": [
    "<h1>Содержание<span class=\"tocSkip\"></span></h1>\n",
    "<div class=\"toc\"><ul class=\"toc-item\"><li><span><a href=\"#Подготовка-данных\" data-toc-modified-id=\"Подготовка-данных-1\"><span class=\"toc-item-num\">1&nbsp;&nbsp;</span>Подготовка данных</a></span><ul class=\"toc-item\"><li><span><a href=\"#Вывод\" data-toc-modified-id=\"Вывод-1.1\"><span class=\"toc-item-num\">1.1&nbsp;&nbsp;</span>Вывод</a></span></li></ul></li><li><span><a href=\"#Исследование-задачи\" data-toc-modified-id=\"Исследование-задачи-2\"><span class=\"toc-item-num\">2&nbsp;&nbsp;</span>Исследование задачи</a></span><ul class=\"toc-item\"><li><span><a href=\"#Дерево-решений\" data-toc-modified-id=\"Дерево-решений-2.1\"><span class=\"toc-item-num\">2.1&nbsp;&nbsp;</span>Дерево решений</a></span></li><li><span><a href=\"#Случайный-лес\" data-toc-modified-id=\"Случайный-лес-2.2\"><span class=\"toc-item-num\">2.2&nbsp;&nbsp;</span>Случайный лес</a></span></li><li><span><a href=\"#Логистическая-регрессия\" data-toc-modified-id=\"Логистическая-регрессия-2.3\"><span class=\"toc-item-num\">2.3&nbsp;&nbsp;</span>Логистическая регрессия</a></span></li><li><span><a href=\"#Вывод\" data-toc-modified-id=\"Вывод-2.4\"><span class=\"toc-item-num\">2.4&nbsp;&nbsp;</span>Вывод</a></span></li></ul></li><li><span><a href=\"#Борьба-с-дисбалансом\" data-toc-modified-id=\"Борьба-с-дисбалансом-3\"><span class=\"toc-item-num\">3&nbsp;&nbsp;</span>Борьба с дисбалансом</a></span><ul class=\"toc-item\"><li><span><a href=\"#class_weight-=-'balanced'\" data-toc-modified-id=\"class_weight-=-'balanced'-3.1\"><span class=\"toc-item-num\">3.1&nbsp;&nbsp;</span>class_weight = 'balanced'</a></span></li><li><span><a href=\"#Upsample\" data-toc-modified-id=\"Upsample-3.2\"><span class=\"toc-item-num\">3.2&nbsp;&nbsp;</span>Upsample</a></span></li><li><span><a href=\"#Downsample\" data-toc-modified-id=\"Downsample-3.3\"><span class=\"toc-item-num\">3.3&nbsp;&nbsp;</span>Downsample</a></span></li><li><span><a href=\"#Вывод\" data-toc-modified-id=\"Вывод-3.4\"><span class=\"toc-item-num\">3.4&nbsp;&nbsp;</span>Вывод</a></span></li></ul></li><li><span><a href=\"#Тестирование-модели\" data-toc-modified-id=\"Тестирование-модели-4\"><span class=\"toc-item-num\">4&nbsp;&nbsp;</span>Тестирование модели</a></span><ul class=\"toc-item\"><li><span><a href=\"#Вывод\" data-toc-modified-id=\"Вывод-4.1\"><span class=\"toc-item-num\">4.1&nbsp;&nbsp;</span>Вывод</a></span></li></ul></li><li><span><a href=\"#Общий-вывод\" data-toc-modified-id=\"Общий-вывод-5\"><span class=\"toc-item-num\">5&nbsp;&nbsp;</span>Общий вывод</a></span></li></ul></div>"
   ]
  },
  {
   "cell_type": "markdown",
   "metadata": {},
   "source": [
    "# Прогнозирование оттока клиентов банка"
   ]
  },
  {
   "cell_type": "markdown",
   "metadata": {},
   "source": [
    "Из банка понемногу, но каждый месяц и заметно уходять клиенты. Банковские маркетологи посчитали, что сохранять текущих клиентов дешевле, чем привлекать новых.\n",
    "\n",
    "Необходимо спрогнозировать, уйдёт клиент из банка в ближайшее время или нет.   \n",
    "Предоставлены исторические данные о поведении клиентов и расторжении договоров с банком. \n",
    "\n",
    "Нужно построить модель с предельно большим значением *F1*-меры.   \n",
    "Нужно довести метрику F1 выше 0.59 и дополнительно измерить *AUC-ROC*\n",
    "\n",
    "**Опиание данных:**\n",
    "\n",
    "**Признаки**  \n",
    "`RowNumber` — индекс строки в данных  \n",
    "`CustomerId` — уникальный идентификатор клиента  \n",
    "`Surname` — фамилия  \n",
    "`CreditScore` — кредитный рейтинг  \n",
    "`Geography` — страна проживания  \n",
    "`Gender` — пол  \n",
    "`Age` — возраст  \n",
    "`Tenure` — сколько лет человек является клиентом банка  \n",
    "`Balance` — баланс на счёте    \n",
    "`NumOfProducts` — количество продуктов банка, используемых клиентом  \n",
    "`HasCrCard` — наличие кредитной карты    \n",
    "`IsActiveMember` — активность клиента  \n",
    "`EstimatedSalary` — предполагаемая зарплата  \n",
    "\n",
    "**Целевой признак**  \n",
    "`Exited` — факт ухода клиента"
   ]
  },
  {
   "cell_type": "markdown",
   "metadata": {},
   "source": [
    "## Подготовка данных"
   ]
  },
  {
   "cell_type": "code",
   "execution_count": 1,
   "metadata": {},
   "outputs": [],
   "source": [
    "import pandas as pd\n",
    "import numpy as np\n",
    "import matplotlib.pyplot as plt\n",
    "import seaborn as sns\n",
    "from sklearn.model_selection import train_test_split\n",
    "from sklearn.preprocessing import StandardScaler \n",
    "from sklearn.metrics import f1_score\n",
    "from sklearn.metrics import roc_auc_score\n",
    "from sklearn.tree import DecisionTreeClassifier\n",
    "from sklearn.ensemble import RandomForestClassifier\n",
    "from sklearn.linear_model import LogisticRegression\n",
    "from sklearn.utils import shuffle\n",
    "import warnings\n",
    "warnings.simplefilter('ignore')"
   ]
  },
  {
   "cell_type": "code",
   "execution_count": 2,
   "metadata": {},
   "outputs": [],
   "source": [
    "try:\n",
    "    data = pd.read_csv('Churn.csv')\n",
    "except:\n",
    "    data = pd.read_csv('https://df_address_is_here/Churn.csv') "
   ]
  },
  {
   "cell_type": "markdown",
   "metadata": {},
   "source": [
    "Поссмотрим данные. Выведем:\n",
    "\n",
    "- 10 первых значений;  \n",
    "- Общую информацию;  \n",
    "- Описательную статистику."
   ]
  },
  {
   "cell_type": "code",
   "execution_count": 3,
   "metadata": {},
   "outputs": [
    {
     "data": {
      "text/html": [
       "<div>\n",
       "<style scoped>\n",
       "    .dataframe tbody tr th:only-of-type {\n",
       "        vertical-align: middle;\n",
       "    }\n",
       "\n",
       "    .dataframe tbody tr th {\n",
       "        vertical-align: top;\n",
       "    }\n",
       "\n",
       "    .dataframe thead th {\n",
       "        text-align: right;\n",
       "    }\n",
       "</style>\n",
       "<table border=\"1\" class=\"dataframe\">\n",
       "  <thead>\n",
       "    <tr style=\"text-align: right;\">\n",
       "      <th></th>\n",
       "      <th>RowNumber</th>\n",
       "      <th>CustomerId</th>\n",
       "      <th>Surname</th>\n",
       "      <th>CreditScore</th>\n",
       "      <th>Geography</th>\n",
       "      <th>Gender</th>\n",
       "      <th>Age</th>\n",
       "      <th>Tenure</th>\n",
       "      <th>Balance</th>\n",
       "      <th>NumOfProducts</th>\n",
       "      <th>HasCrCard</th>\n",
       "      <th>IsActiveMember</th>\n",
       "      <th>EstimatedSalary</th>\n",
       "      <th>Exited</th>\n",
       "    </tr>\n",
       "  </thead>\n",
       "  <tbody>\n",
       "    <tr>\n",
       "      <td>0</td>\n",
       "      <td>1</td>\n",
       "      <td>15634602</td>\n",
       "      <td>Hargrave</td>\n",
       "      <td>619</td>\n",
       "      <td>France</td>\n",
       "      <td>Female</td>\n",
       "      <td>42</td>\n",
       "      <td>2.0</td>\n",
       "      <td>0.00</td>\n",
       "      <td>1</td>\n",
       "      <td>1</td>\n",
       "      <td>1</td>\n",
       "      <td>101348.88</td>\n",
       "      <td>1</td>\n",
       "    </tr>\n",
       "    <tr>\n",
       "      <td>1</td>\n",
       "      <td>2</td>\n",
       "      <td>15647311</td>\n",
       "      <td>Hill</td>\n",
       "      <td>608</td>\n",
       "      <td>Spain</td>\n",
       "      <td>Female</td>\n",
       "      <td>41</td>\n",
       "      <td>1.0</td>\n",
       "      <td>83807.86</td>\n",
       "      <td>1</td>\n",
       "      <td>0</td>\n",
       "      <td>1</td>\n",
       "      <td>112542.58</td>\n",
       "      <td>0</td>\n",
       "    </tr>\n",
       "    <tr>\n",
       "      <td>2</td>\n",
       "      <td>3</td>\n",
       "      <td>15619304</td>\n",
       "      <td>Onio</td>\n",
       "      <td>502</td>\n",
       "      <td>France</td>\n",
       "      <td>Female</td>\n",
       "      <td>42</td>\n",
       "      <td>8.0</td>\n",
       "      <td>159660.80</td>\n",
       "      <td>3</td>\n",
       "      <td>1</td>\n",
       "      <td>0</td>\n",
       "      <td>113931.57</td>\n",
       "      <td>1</td>\n",
       "    </tr>\n",
       "    <tr>\n",
       "      <td>3</td>\n",
       "      <td>4</td>\n",
       "      <td>15701354</td>\n",
       "      <td>Boni</td>\n",
       "      <td>699</td>\n",
       "      <td>France</td>\n",
       "      <td>Female</td>\n",
       "      <td>39</td>\n",
       "      <td>1.0</td>\n",
       "      <td>0.00</td>\n",
       "      <td>2</td>\n",
       "      <td>0</td>\n",
       "      <td>0</td>\n",
       "      <td>93826.63</td>\n",
       "      <td>0</td>\n",
       "    </tr>\n",
       "    <tr>\n",
       "      <td>4</td>\n",
       "      <td>5</td>\n",
       "      <td>15737888</td>\n",
       "      <td>Mitchell</td>\n",
       "      <td>850</td>\n",
       "      <td>Spain</td>\n",
       "      <td>Female</td>\n",
       "      <td>43</td>\n",
       "      <td>2.0</td>\n",
       "      <td>125510.82</td>\n",
       "      <td>1</td>\n",
       "      <td>1</td>\n",
       "      <td>1</td>\n",
       "      <td>79084.10</td>\n",
       "      <td>0</td>\n",
       "    </tr>\n",
       "    <tr>\n",
       "      <td>5</td>\n",
       "      <td>6</td>\n",
       "      <td>15574012</td>\n",
       "      <td>Chu</td>\n",
       "      <td>645</td>\n",
       "      <td>Spain</td>\n",
       "      <td>Male</td>\n",
       "      <td>44</td>\n",
       "      <td>8.0</td>\n",
       "      <td>113755.78</td>\n",
       "      <td>2</td>\n",
       "      <td>1</td>\n",
       "      <td>0</td>\n",
       "      <td>149756.71</td>\n",
       "      <td>1</td>\n",
       "    </tr>\n",
       "    <tr>\n",
       "      <td>6</td>\n",
       "      <td>7</td>\n",
       "      <td>15592531</td>\n",
       "      <td>Bartlett</td>\n",
       "      <td>822</td>\n",
       "      <td>France</td>\n",
       "      <td>Male</td>\n",
       "      <td>50</td>\n",
       "      <td>7.0</td>\n",
       "      <td>0.00</td>\n",
       "      <td>2</td>\n",
       "      <td>1</td>\n",
       "      <td>1</td>\n",
       "      <td>10062.80</td>\n",
       "      <td>0</td>\n",
       "    </tr>\n",
       "    <tr>\n",
       "      <td>7</td>\n",
       "      <td>8</td>\n",
       "      <td>15656148</td>\n",
       "      <td>Obinna</td>\n",
       "      <td>376</td>\n",
       "      <td>Germany</td>\n",
       "      <td>Female</td>\n",
       "      <td>29</td>\n",
       "      <td>4.0</td>\n",
       "      <td>115046.74</td>\n",
       "      <td>4</td>\n",
       "      <td>1</td>\n",
       "      <td>0</td>\n",
       "      <td>119346.88</td>\n",
       "      <td>1</td>\n",
       "    </tr>\n",
       "    <tr>\n",
       "      <td>8</td>\n",
       "      <td>9</td>\n",
       "      <td>15792365</td>\n",
       "      <td>He</td>\n",
       "      <td>501</td>\n",
       "      <td>France</td>\n",
       "      <td>Male</td>\n",
       "      <td>44</td>\n",
       "      <td>4.0</td>\n",
       "      <td>142051.07</td>\n",
       "      <td>2</td>\n",
       "      <td>0</td>\n",
       "      <td>1</td>\n",
       "      <td>74940.50</td>\n",
       "      <td>0</td>\n",
       "    </tr>\n",
       "    <tr>\n",
       "      <td>9</td>\n",
       "      <td>10</td>\n",
       "      <td>15592389</td>\n",
       "      <td>H?</td>\n",
       "      <td>684</td>\n",
       "      <td>France</td>\n",
       "      <td>Male</td>\n",
       "      <td>27</td>\n",
       "      <td>2.0</td>\n",
       "      <td>134603.88</td>\n",
       "      <td>1</td>\n",
       "      <td>1</td>\n",
       "      <td>1</td>\n",
       "      <td>71725.73</td>\n",
       "      <td>0</td>\n",
       "    </tr>\n",
       "  </tbody>\n",
       "</table>\n",
       "</div>"
      ],
      "text/plain": [
       "   RowNumber  CustomerId   Surname  CreditScore Geography  Gender  Age  \\\n",
       "0          1    15634602  Hargrave          619    France  Female   42   \n",
       "1          2    15647311      Hill          608     Spain  Female   41   \n",
       "2          3    15619304      Onio          502    France  Female   42   \n",
       "3          4    15701354      Boni          699    France  Female   39   \n",
       "4          5    15737888  Mitchell          850     Spain  Female   43   \n",
       "5          6    15574012       Chu          645     Spain    Male   44   \n",
       "6          7    15592531  Bartlett          822    France    Male   50   \n",
       "7          8    15656148    Obinna          376   Germany  Female   29   \n",
       "8          9    15792365        He          501    France    Male   44   \n",
       "9         10    15592389        H?          684    France    Male   27   \n",
       "\n",
       "   Tenure    Balance  NumOfProducts  HasCrCard  IsActiveMember  \\\n",
       "0     2.0       0.00              1          1               1   \n",
       "1     1.0   83807.86              1          0               1   \n",
       "2     8.0  159660.80              3          1               0   \n",
       "3     1.0       0.00              2          0               0   \n",
       "4     2.0  125510.82              1          1               1   \n",
       "5     8.0  113755.78              2          1               0   \n",
       "6     7.0       0.00              2          1               1   \n",
       "7     4.0  115046.74              4          1               0   \n",
       "8     4.0  142051.07              2          0               1   \n",
       "9     2.0  134603.88              1          1               1   \n",
       "\n",
       "   EstimatedSalary  Exited  \n",
       "0        101348.88       1  \n",
       "1        112542.58       0  \n",
       "2        113931.57       1  \n",
       "3         93826.63       0  \n",
       "4         79084.10       0  \n",
       "5        149756.71       1  \n",
       "6         10062.80       0  \n",
       "7        119346.88       1  \n",
       "8         74940.50       0  \n",
       "9         71725.73       0  "
      ]
     },
     "execution_count": 3,
     "metadata": {},
     "output_type": "execute_result"
    }
   ],
   "source": [
    "data.head(10)"
   ]
  },
  {
   "cell_type": "code",
   "execution_count": 4,
   "metadata": {},
   "outputs": [
    {
     "name": "stdout",
     "output_type": "stream",
     "text": [
      "<class 'pandas.core.frame.DataFrame'>\n",
      "RangeIndex: 10000 entries, 0 to 9999\n",
      "Data columns (total 14 columns):\n",
      "RowNumber          10000 non-null int64\n",
      "CustomerId         10000 non-null int64\n",
      "Surname            10000 non-null object\n",
      "CreditScore        10000 non-null int64\n",
      "Geography          10000 non-null object\n",
      "Gender             10000 non-null object\n",
      "Age                10000 non-null int64\n",
      "Tenure             9091 non-null float64\n",
      "Balance            10000 non-null float64\n",
      "NumOfProducts      10000 non-null int64\n",
      "HasCrCard          10000 non-null int64\n",
      "IsActiveMember     10000 non-null int64\n",
      "EstimatedSalary    10000 non-null float64\n",
      "Exited             10000 non-null int64\n",
      "dtypes: float64(3), int64(8), object(3)\n",
      "memory usage: 1.1+ MB\n"
     ]
    }
   ],
   "source": [
    "data.info()"
   ]
  },
  {
   "cell_type": "code",
   "execution_count": 5,
   "metadata": {
    "scrolled": true
   },
   "outputs": [
    {
     "data": {
      "text/html": [
       "<div>\n",
       "<style scoped>\n",
       "    .dataframe tbody tr th:only-of-type {\n",
       "        vertical-align: middle;\n",
       "    }\n",
       "\n",
       "    .dataframe tbody tr th {\n",
       "        vertical-align: top;\n",
       "    }\n",
       "\n",
       "    .dataframe thead th {\n",
       "        text-align: right;\n",
       "    }\n",
       "</style>\n",
       "<table border=\"1\" class=\"dataframe\">\n",
       "  <thead>\n",
       "    <tr style=\"text-align: right;\">\n",
       "      <th></th>\n",
       "      <th>RowNumber</th>\n",
       "      <th>CustomerId</th>\n",
       "      <th>CreditScore</th>\n",
       "      <th>Age</th>\n",
       "      <th>Tenure</th>\n",
       "      <th>Balance</th>\n",
       "      <th>NumOfProducts</th>\n",
       "      <th>HasCrCard</th>\n",
       "      <th>IsActiveMember</th>\n",
       "      <th>EstimatedSalary</th>\n",
       "      <th>Exited</th>\n",
       "    </tr>\n",
       "  </thead>\n",
       "  <tbody>\n",
       "    <tr>\n",
       "      <td>count</td>\n",
       "      <td>10000.00000</td>\n",
       "      <td>1.000000e+04</td>\n",
       "      <td>10000.000000</td>\n",
       "      <td>10000.000000</td>\n",
       "      <td>9091.000000</td>\n",
       "      <td>10000.000000</td>\n",
       "      <td>10000.000000</td>\n",
       "      <td>10000.00000</td>\n",
       "      <td>10000.000000</td>\n",
       "      <td>10000.000000</td>\n",
       "      <td>10000.000000</td>\n",
       "    </tr>\n",
       "    <tr>\n",
       "      <td>mean</td>\n",
       "      <td>5000.50000</td>\n",
       "      <td>1.569094e+07</td>\n",
       "      <td>650.528800</td>\n",
       "      <td>38.921800</td>\n",
       "      <td>4.997690</td>\n",
       "      <td>76485.889288</td>\n",
       "      <td>1.530200</td>\n",
       "      <td>0.70550</td>\n",
       "      <td>0.515100</td>\n",
       "      <td>100090.239881</td>\n",
       "      <td>0.203700</td>\n",
       "    </tr>\n",
       "    <tr>\n",
       "      <td>std</td>\n",
       "      <td>2886.89568</td>\n",
       "      <td>7.193619e+04</td>\n",
       "      <td>96.653299</td>\n",
       "      <td>10.487806</td>\n",
       "      <td>2.894723</td>\n",
       "      <td>62397.405202</td>\n",
       "      <td>0.581654</td>\n",
       "      <td>0.45584</td>\n",
       "      <td>0.499797</td>\n",
       "      <td>57510.492818</td>\n",
       "      <td>0.402769</td>\n",
       "    </tr>\n",
       "    <tr>\n",
       "      <td>min</td>\n",
       "      <td>1.00000</td>\n",
       "      <td>1.556570e+07</td>\n",
       "      <td>350.000000</td>\n",
       "      <td>18.000000</td>\n",
       "      <td>0.000000</td>\n",
       "      <td>0.000000</td>\n",
       "      <td>1.000000</td>\n",
       "      <td>0.00000</td>\n",
       "      <td>0.000000</td>\n",
       "      <td>11.580000</td>\n",
       "      <td>0.000000</td>\n",
       "    </tr>\n",
       "    <tr>\n",
       "      <td>25%</td>\n",
       "      <td>2500.75000</td>\n",
       "      <td>1.562853e+07</td>\n",
       "      <td>584.000000</td>\n",
       "      <td>32.000000</td>\n",
       "      <td>2.000000</td>\n",
       "      <td>0.000000</td>\n",
       "      <td>1.000000</td>\n",
       "      <td>0.00000</td>\n",
       "      <td>0.000000</td>\n",
       "      <td>51002.110000</td>\n",
       "      <td>0.000000</td>\n",
       "    </tr>\n",
       "    <tr>\n",
       "      <td>50%</td>\n",
       "      <td>5000.50000</td>\n",
       "      <td>1.569074e+07</td>\n",
       "      <td>652.000000</td>\n",
       "      <td>37.000000</td>\n",
       "      <td>5.000000</td>\n",
       "      <td>97198.540000</td>\n",
       "      <td>1.000000</td>\n",
       "      <td>1.00000</td>\n",
       "      <td>1.000000</td>\n",
       "      <td>100193.915000</td>\n",
       "      <td>0.000000</td>\n",
       "    </tr>\n",
       "    <tr>\n",
       "      <td>75%</td>\n",
       "      <td>7500.25000</td>\n",
       "      <td>1.575323e+07</td>\n",
       "      <td>718.000000</td>\n",
       "      <td>44.000000</td>\n",
       "      <td>7.000000</td>\n",
       "      <td>127644.240000</td>\n",
       "      <td>2.000000</td>\n",
       "      <td>1.00000</td>\n",
       "      <td>1.000000</td>\n",
       "      <td>149388.247500</td>\n",
       "      <td>0.000000</td>\n",
       "    </tr>\n",
       "    <tr>\n",
       "      <td>max</td>\n",
       "      <td>10000.00000</td>\n",
       "      <td>1.581569e+07</td>\n",
       "      <td>850.000000</td>\n",
       "      <td>92.000000</td>\n",
       "      <td>10.000000</td>\n",
       "      <td>250898.090000</td>\n",
       "      <td>4.000000</td>\n",
       "      <td>1.00000</td>\n",
       "      <td>1.000000</td>\n",
       "      <td>199992.480000</td>\n",
       "      <td>1.000000</td>\n",
       "    </tr>\n",
       "  </tbody>\n",
       "</table>\n",
       "</div>"
      ],
      "text/plain": [
       "         RowNumber    CustomerId   CreditScore           Age       Tenure  \\\n",
       "count  10000.00000  1.000000e+04  10000.000000  10000.000000  9091.000000   \n",
       "mean    5000.50000  1.569094e+07    650.528800     38.921800     4.997690   \n",
       "std     2886.89568  7.193619e+04     96.653299     10.487806     2.894723   \n",
       "min        1.00000  1.556570e+07    350.000000     18.000000     0.000000   \n",
       "25%     2500.75000  1.562853e+07    584.000000     32.000000     2.000000   \n",
       "50%     5000.50000  1.569074e+07    652.000000     37.000000     5.000000   \n",
       "75%     7500.25000  1.575323e+07    718.000000     44.000000     7.000000   \n",
       "max    10000.00000  1.581569e+07    850.000000     92.000000    10.000000   \n",
       "\n",
       "             Balance  NumOfProducts    HasCrCard  IsActiveMember  \\\n",
       "count   10000.000000   10000.000000  10000.00000    10000.000000   \n",
       "mean    76485.889288       1.530200      0.70550        0.515100   \n",
       "std     62397.405202       0.581654      0.45584        0.499797   \n",
       "min         0.000000       1.000000      0.00000        0.000000   \n",
       "25%         0.000000       1.000000      0.00000        0.000000   \n",
       "50%     97198.540000       1.000000      1.00000        1.000000   \n",
       "75%    127644.240000       2.000000      1.00000        1.000000   \n",
       "max    250898.090000       4.000000      1.00000        1.000000   \n",
       "\n",
       "       EstimatedSalary        Exited  \n",
       "count     10000.000000  10000.000000  \n",
       "mean     100090.239881      0.203700  \n",
       "std       57510.492818      0.402769  \n",
       "min          11.580000      0.000000  \n",
       "25%       51002.110000      0.000000  \n",
       "50%      100193.915000      0.000000  \n",
       "75%      149388.247500      0.000000  \n",
       "max      199992.480000      1.000000  "
      ]
     },
     "execution_count": 5,
     "metadata": {},
     "output_type": "execute_result"
    }
   ],
   "source": [
    "data.describe()"
   ]
  },
  {
   "cell_type": "markdown",
   "metadata": {},
   "source": [
    "Наблюдения \n",
    "- обнаружены пропуски в признаке `Tenure`. Пропусков меньше 10%. Учитывая небольшие потери объетов при их удалении, целесообразно их просто убрать.\n",
    "- порядка четверти значений признака `Balance` равна нулю, что возможно, если объекты  клиентами стали недавно или наоборот перестали пользоваться продуктами банка;\n",
    "- выбивающийся показатель признака `EstimatedSalary` в 11.58 условных валютных единиц, что в 9 раз меньше среднего значения. Это, конечно же , возможно, но выглядит подозрительно. Ели он один, значения не придаём.\n",
    "- признаки `RowNumber`, `CustomerId`, `Surname` не несут смыловой нагрузки для прогназируемой модели, удалим , чтобы не перегружать модель. С этой же целью проверим с помощью heatmap и  корреляцию осталных признаков. При обнаружении сильной корреляции удалим идин из них\n",
    "- из статистических данных заметно, что целевой признак распределен неравномерно."
   ]
  },
  {
   "cell_type": "markdown",
   "metadata": {},
   "source": [
    "Займёмся пропусками."
   ]
  },
  {
   "cell_type": "code",
   "execution_count": 6,
   "metadata": {},
   "outputs": [
    {
     "name": "stdout",
     "output_type": "stream",
     "text": [
      "Количество пропусков в признаке Tenure = 909 или 9.09 %\n"
     ]
    }
   ],
   "source": [
    "print('Количество пропусков в признаке Tenure =', data['Tenure'].isna().sum(),'или', data['Tenure'].isna().sum()/len(data)*100,'%')"
   ]
  },
  {
   "cell_type": "markdown",
   "metadata": {},
   "source": [
    "Меньше 10%, так что без зазрения совести удаляем."
   ]
  },
  {
   "cell_type": "code",
   "execution_count": 7,
   "metadata": {
    "scrolled": true
   },
   "outputs": [
    {
     "name": "stdout",
     "output_type": "stream",
     "text": [
      "Количество пропусков в столбце Tenure = 0\n",
      "Текущий размер датасета (9091, 14)\n"
     ]
    }
   ],
   "source": [
    "data.dropna(inplace = True)\n",
    "print('Количество пропусков в столбце Tenure =', data['Tenure'].isna().sum())\n",
    "print('Текущий размер датасета',data.shape)"
   ]
  },
  {
   "cell_type": "markdown",
   "metadata": {},
   "source": [
    "С пропусками разобрались, посмотрим на подозрительные моменты.\n",
    "Много нулей в `Balance`.   \n",
    "Проверим гипотезу, что либо это новые клиенты, либо уже не активные и собрались в другие банки."
   ]
  },
  {
   "cell_type": "code",
   "execution_count": 8,
   "metadata": {},
   "outputs": [
    {
     "data": {
      "text/html": [
       "<div>\n",
       "<style scoped>\n",
       "    .dataframe tbody tr th:only-of-type {\n",
       "        vertical-align: middle;\n",
       "    }\n",
       "\n",
       "    .dataframe tbody tr th {\n",
       "        vertical-align: top;\n",
       "    }\n",
       "\n",
       "    .dataframe thead th {\n",
       "        text-align: right;\n",
       "    }\n",
       "</style>\n",
       "<table border=\"1\" class=\"dataframe\">\n",
       "  <thead>\n",
       "    <tr style=\"text-align: right;\">\n",
       "      <th></th>\n",
       "      <th>RowNumber</th>\n",
       "      <th>CustomerId</th>\n",
       "      <th>Surname</th>\n",
       "      <th>CreditScore</th>\n",
       "      <th>Geography</th>\n",
       "      <th>Gender</th>\n",
       "      <th>Age</th>\n",
       "      <th>Tenure</th>\n",
       "      <th>Balance</th>\n",
       "      <th>NumOfProducts</th>\n",
       "      <th>HasCrCard</th>\n",
       "      <th>IsActiveMember</th>\n",
       "      <th>EstimatedSalary</th>\n",
       "      <th>Exited</th>\n",
       "    </tr>\n",
       "  </thead>\n",
       "  <tbody>\n",
       "    <tr>\n",
       "      <td>0</td>\n",
       "      <td>1</td>\n",
       "      <td>15634602</td>\n",
       "      <td>Hargrave</td>\n",
       "      <td>619</td>\n",
       "      <td>France</td>\n",
       "      <td>Female</td>\n",
       "      <td>42</td>\n",
       "      <td>2.0</td>\n",
       "      <td>0.0</td>\n",
       "      <td>1</td>\n",
       "      <td>1</td>\n",
       "      <td>1</td>\n",
       "      <td>101348.88</td>\n",
       "      <td>1</td>\n",
       "    </tr>\n",
       "    <tr>\n",
       "      <td>3</td>\n",
       "      <td>4</td>\n",
       "      <td>15701354</td>\n",
       "      <td>Boni</td>\n",
       "      <td>699</td>\n",
       "      <td>France</td>\n",
       "      <td>Female</td>\n",
       "      <td>39</td>\n",
       "      <td>1.0</td>\n",
       "      <td>0.0</td>\n",
       "      <td>2</td>\n",
       "      <td>0</td>\n",
       "      <td>0</td>\n",
       "      <td>93826.63</td>\n",
       "      <td>0</td>\n",
       "    </tr>\n",
       "    <tr>\n",
       "      <td>6</td>\n",
       "      <td>7</td>\n",
       "      <td>15592531</td>\n",
       "      <td>Bartlett</td>\n",
       "      <td>822</td>\n",
       "      <td>France</td>\n",
       "      <td>Male</td>\n",
       "      <td>50</td>\n",
       "      <td>7.0</td>\n",
       "      <td>0.0</td>\n",
       "      <td>2</td>\n",
       "      <td>1</td>\n",
       "      <td>1</td>\n",
       "      <td>10062.80</td>\n",
       "      <td>0</td>\n",
       "    </tr>\n",
       "    <tr>\n",
       "      <td>11</td>\n",
       "      <td>12</td>\n",
       "      <td>15737173</td>\n",
       "      <td>Andrews</td>\n",
       "      <td>497</td>\n",
       "      <td>Spain</td>\n",
       "      <td>Male</td>\n",
       "      <td>24</td>\n",
       "      <td>3.0</td>\n",
       "      <td>0.0</td>\n",
       "      <td>2</td>\n",
       "      <td>1</td>\n",
       "      <td>0</td>\n",
       "      <td>76390.01</td>\n",
       "      <td>0</td>\n",
       "    </tr>\n",
       "    <tr>\n",
       "      <td>12</td>\n",
       "      <td>13</td>\n",
       "      <td>15632264</td>\n",
       "      <td>Kay</td>\n",
       "      <td>476</td>\n",
       "      <td>France</td>\n",
       "      <td>Female</td>\n",
       "      <td>34</td>\n",
       "      <td>10.0</td>\n",
       "      <td>0.0</td>\n",
       "      <td>2</td>\n",
       "      <td>1</td>\n",
       "      <td>0</td>\n",
       "      <td>26260.98</td>\n",
       "      <td>0</td>\n",
       "    </tr>\n",
       "    <tr>\n",
       "      <td>13</td>\n",
       "      <td>14</td>\n",
       "      <td>15691483</td>\n",
       "      <td>Chin</td>\n",
       "      <td>549</td>\n",
       "      <td>France</td>\n",
       "      <td>Female</td>\n",
       "      <td>25</td>\n",
       "      <td>5.0</td>\n",
       "      <td>0.0</td>\n",
       "      <td>2</td>\n",
       "      <td>0</td>\n",
       "      <td>0</td>\n",
       "      <td>190857.79</td>\n",
       "      <td>0</td>\n",
       "    </tr>\n",
       "    <tr>\n",
       "      <td>14</td>\n",
       "      <td>15</td>\n",
       "      <td>15600882</td>\n",
       "      <td>Scott</td>\n",
       "      <td>635</td>\n",
       "      <td>Spain</td>\n",
       "      <td>Female</td>\n",
       "      <td>35</td>\n",
       "      <td>7.0</td>\n",
       "      <td>0.0</td>\n",
       "      <td>2</td>\n",
       "      <td>1</td>\n",
       "      <td>1</td>\n",
       "      <td>65951.65</td>\n",
       "      <td>0</td>\n",
       "    </tr>\n",
       "    <tr>\n",
       "      <td>17</td>\n",
       "      <td>18</td>\n",
       "      <td>15788218</td>\n",
       "      <td>Henderson</td>\n",
       "      <td>549</td>\n",
       "      <td>Spain</td>\n",
       "      <td>Female</td>\n",
       "      <td>24</td>\n",
       "      <td>9.0</td>\n",
       "      <td>0.0</td>\n",
       "      <td>2</td>\n",
       "      <td>1</td>\n",
       "      <td>1</td>\n",
       "      <td>14406.41</td>\n",
       "      <td>0</td>\n",
       "    </tr>\n",
       "    <tr>\n",
       "      <td>18</td>\n",
       "      <td>19</td>\n",
       "      <td>15661507</td>\n",
       "      <td>Muldrow</td>\n",
       "      <td>587</td>\n",
       "      <td>Spain</td>\n",
       "      <td>Male</td>\n",
       "      <td>45</td>\n",
       "      <td>6.0</td>\n",
       "      <td>0.0</td>\n",
       "      <td>1</td>\n",
       "      <td>0</td>\n",
       "      <td>0</td>\n",
       "      <td>158684.81</td>\n",
       "      <td>0</td>\n",
       "    </tr>\n",
       "    <tr>\n",
       "      <td>19</td>\n",
       "      <td>20</td>\n",
       "      <td>15568982</td>\n",
       "      <td>Hao</td>\n",
       "      <td>726</td>\n",
       "      <td>France</td>\n",
       "      <td>Female</td>\n",
       "      <td>24</td>\n",
       "      <td>6.0</td>\n",
       "      <td>0.0</td>\n",
       "      <td>2</td>\n",
       "      <td>1</td>\n",
       "      <td>1</td>\n",
       "      <td>54724.03</td>\n",
       "      <td>0</td>\n",
       "    </tr>\n",
       "  </tbody>\n",
       "</table>\n",
       "</div>"
      ],
      "text/plain": [
       "    RowNumber  CustomerId    Surname  CreditScore Geography  Gender  Age  \\\n",
       "0           1    15634602   Hargrave          619    France  Female   42   \n",
       "3           4    15701354       Boni          699    France  Female   39   \n",
       "6           7    15592531   Bartlett          822    France    Male   50   \n",
       "11         12    15737173    Andrews          497     Spain    Male   24   \n",
       "12         13    15632264        Kay          476    France  Female   34   \n",
       "13         14    15691483       Chin          549    France  Female   25   \n",
       "14         15    15600882      Scott          635     Spain  Female   35   \n",
       "17         18    15788218  Henderson          549     Spain  Female   24   \n",
       "18         19    15661507    Muldrow          587     Spain    Male   45   \n",
       "19         20    15568982        Hao          726    France  Female   24   \n",
       "\n",
       "    Tenure  Balance  NumOfProducts  HasCrCard  IsActiveMember  \\\n",
       "0      2.0      0.0              1          1               1   \n",
       "3      1.0      0.0              2          0               0   \n",
       "6      7.0      0.0              2          1               1   \n",
       "11     3.0      0.0              2          1               0   \n",
       "12    10.0      0.0              2          1               0   \n",
       "13     5.0      0.0              2          0               0   \n",
       "14     7.0      0.0              2          1               1   \n",
       "17     9.0      0.0              2          1               1   \n",
       "18     6.0      0.0              1          0               0   \n",
       "19     6.0      0.0              2          1               1   \n",
       "\n",
       "    EstimatedSalary  Exited  \n",
       "0         101348.88       1  \n",
       "3          93826.63       0  \n",
       "6          10062.80       0  \n",
       "11         76390.01       0  \n",
       "12         26260.98       0  \n",
       "13        190857.79       0  \n",
       "14         65951.65       0  \n",
       "17         14406.41       0  \n",
       "18        158684.81       0  \n",
       "19         54724.03       0  "
      ]
     },
     "execution_count": 8,
     "metadata": {},
     "output_type": "execute_result"
    }
   ],
   "source": [
    "data.query('Balance == 0').head(10)"
   ]
  },
  {
   "cell_type": "code",
   "execution_count": 9,
   "metadata": {},
   "outputs": [
    {
     "data": {
      "text/plain": [
       "2.0     349\n",
       "7.0     343\n",
       "5.0     341\n",
       "6.0     331\n",
       "8.0     330\n",
       "4.0     329\n",
       "1.0     329\n",
       "3.0     322\n",
       "9.0     319\n",
       "10.0    162\n",
       "0.0     128\n",
       "Name: Tenure, dtype: int64"
      ]
     },
     "execution_count": 9,
     "metadata": {},
     "output_type": "execute_result"
    }
   ],
   "source": [
    "data.query('Balance == 0')['Tenure'].value_counts()"
   ]
  },
  {
   "cell_type": "code",
   "execution_count": 10,
   "metadata": {},
   "outputs": [
    {
     "data": {
      "text/plain": [
       "1    1691\n",
       "0    1592\n",
       "Name: IsActiveMember, dtype: int64"
      ]
     },
     "execution_count": 10,
     "metadata": {},
     "output_type": "execute_result"
    }
   ],
   "source": [
    "data.query('Balance == 0')['IsActiveMember'].value_counts()"
   ]
  },
  {
   "cell_type": "markdown",
   "metadata": {},
   "source": [
    "Гипотеза не подтвердилась: у клиентов с нулевым балансом количество лет работы с банком  разнообразное и классификация активности клиентов распределилась поровну. Значит объяснение нулевого баланса лежит глубже первых логических предположений.   \n",
    "Оставляем как есть, моделям нули не мешают, и они сумеют сами отработать такие значения.  \n",
    "\n",
    "Проверим низкие зарплаты."
   ]
  },
  {
   "cell_type": "code",
   "execution_count": 11,
   "metadata": {},
   "outputs": [
    {
     "data": {
      "text/html": [
       "<div>\n",
       "<style scoped>\n",
       "    .dataframe tbody tr th:only-of-type {\n",
       "        vertical-align: middle;\n",
       "    }\n",
       "\n",
       "    .dataframe tbody tr th {\n",
       "        vertical-align: top;\n",
       "    }\n",
       "\n",
       "    .dataframe thead th {\n",
       "        text-align: right;\n",
       "    }\n",
       "</style>\n",
       "<table border=\"1\" class=\"dataframe\">\n",
       "  <thead>\n",
       "    <tr style=\"text-align: right;\">\n",
       "      <th></th>\n",
       "      <th>RowNumber</th>\n",
       "      <th>CustomerId</th>\n",
       "      <th>Surname</th>\n",
       "      <th>CreditScore</th>\n",
       "      <th>Geography</th>\n",
       "      <th>Gender</th>\n",
       "      <th>Age</th>\n",
       "      <th>Tenure</th>\n",
       "      <th>Balance</th>\n",
       "      <th>NumOfProducts</th>\n",
       "      <th>HasCrCard</th>\n",
       "      <th>IsActiveMember</th>\n",
       "      <th>EstimatedSalary</th>\n",
       "      <th>Exited</th>\n",
       "    </tr>\n",
       "  </thead>\n",
       "  <tbody>\n",
       "    <tr>\n",
       "      <td>2362</td>\n",
       "      <td>2363</td>\n",
       "      <td>15791053</td>\n",
       "      <td>Lucciano</td>\n",
       "      <td>709</td>\n",
       "      <td>Germany</td>\n",
       "      <td>Male</td>\n",
       "      <td>45</td>\n",
       "      <td>4.0</td>\n",
       "      <td>122917.71</td>\n",
       "      <td>1</td>\n",
       "      <td>1</td>\n",
       "      <td>1</td>\n",
       "      <td>11.58</td>\n",
       "      <td>1</td>\n",
       "    </tr>\n",
       "  </tbody>\n",
       "</table>\n",
       "</div>"
      ],
      "text/plain": [
       "      RowNumber  CustomerId   Surname  CreditScore Geography Gender  Age  \\\n",
       "2362       2363    15791053  Lucciano          709   Germany   Male   45   \n",
       "\n",
       "      Tenure    Balance  NumOfProducts  HasCrCard  IsActiveMember  \\\n",
       "2362     4.0  122917.71              1          1               1   \n",
       "\n",
       "      EstimatedSalary  Exited  \n",
       "2362            11.58       1  "
      ]
     },
     "execution_count": 11,
     "metadata": {},
     "output_type": "execute_result"
    }
   ],
   "source": [
    "data.query('EstimatedSalary == 11.58')"
   ]
  },
  {
   "cell_type": "markdown",
   "metadata": {},
   "source": [
    "Случай такой один, значения не придаём. Всякое случается!"
   ]
  },
  {
   "cell_type": "markdown",
   "metadata": {},
   "source": [
    "Проверим, есть ли корреляция  признаков, чтобы убрать сильно кррелирующие и не перегружать модели"
   ]
  },
  {
   "cell_type": "code",
   "execution_count": 12,
   "metadata": {},
   "outputs": [
    {
     "data": {
      "image/png": "[encoded data removed]",
      "text/plain": [
       "<Figure size 1008x432 with 2 Axes>"
      ]
     },
     "metadata": {
      "needs_background": "light"
     },
     "output_type": "display_data"
    }
   ],
   "source": [
    "plt.figure(figsize=(14, 6))\n",
    "heatmap = sns.heatmap(data[['RowNumber', 'CustomerId','CreditScore','Age','Tenure','Balance','NumOfProducts','EstimatedSalary']].corr(), vmin=-1, vmax=1, annot=True, cmap='coolwarm')\n",
    "heatmap.set_title('Тепловая карта корреляции признаков', fontdict={'fontsize':14}, pad=12);"
   ]
  },
  {
   "cell_type": "markdown",
   "metadata": {},
   "source": [
    "Корреляция всех признаков незначительная, поэтому сохраняем признаки, кроме неважных для моделей 3х:   `RowNumber`, `CustomerId`, `Surname` "
   ]
  },
  {
   "cell_type": "code",
   "execution_count": 13,
   "metadata": {},
   "outputs": [
    {
     "name": "stdout",
     "output_type": "stream",
     "text": [
      "<class 'pandas.core.frame.DataFrame'>\n",
      "Int64Index: 9091 entries, 0 to 9998\n",
      "Data columns (total 11 columns):\n",
      "CreditScore        9091 non-null int64\n",
      "Geography          9091 non-null object\n",
      "Gender             9091 non-null object\n",
      "Age                9091 non-null int64\n",
      "Tenure             9091 non-null float64\n",
      "Balance            9091 non-null float64\n",
      "NumOfProducts      9091 non-null int64\n",
      "HasCrCard          9091 non-null int64\n",
      "IsActiveMember     9091 non-null int64\n",
      "EstimatedSalary    9091 non-null float64\n",
      "Exited             9091 non-null int64\n",
      "dtypes: float64(3), int64(6), object(2)\n",
      "memory usage: 852.3+ KB\n"
     ]
    }
   ],
   "source": [
    "data = data.drop(['RowNumber', 'CustomerId', 'Surname'], axis = 1)\n",
    "data.info()"
   ]
  },
  {
   "cell_type": "markdown",
   "metadata": {},
   "source": [
    "Преобразуем категориальные признаки `Geography` и `Gender` в численные через прямое кодирование **`OHE`**, при этом уходя от дамми-ловушки, используя параметр `drop_first`. "
   ]
  },
  {
   "cell_type": "code",
   "execution_count": 14,
   "metadata": {},
   "outputs": [
    {
     "data": {
      "text/html": [
       "<div>\n",
       "<style scoped>\n",
       "    .dataframe tbody tr th:only-of-type {\n",
       "        vertical-align: middle;\n",
       "    }\n",
       "\n",
       "    .dataframe tbody tr th {\n",
       "        vertical-align: top;\n",
       "    }\n",
       "\n",
       "    .dataframe thead th {\n",
       "        text-align: right;\n",
       "    }\n",
       "</style>\n",
       "<table border=\"1\" class=\"dataframe\">\n",
       "  <thead>\n",
       "    <tr style=\"text-align: right;\">\n",
       "      <th></th>\n",
       "      <th>CreditScore</th>\n",
       "      <th>Age</th>\n",
       "      <th>Tenure</th>\n",
       "      <th>Balance</th>\n",
       "      <th>NumOfProducts</th>\n",
       "      <th>HasCrCard</th>\n",
       "      <th>IsActiveMember</th>\n",
       "      <th>EstimatedSalary</th>\n",
       "      <th>Exited</th>\n",
       "      <th>Geography_Germany</th>\n",
       "      <th>Geography_Spain</th>\n",
       "      <th>Gender_Male</th>\n",
       "    </tr>\n",
       "  </thead>\n",
       "  <tbody>\n",
       "    <tr>\n",
       "      <td>0</td>\n",
       "      <td>619</td>\n",
       "      <td>42</td>\n",
       "      <td>2.0</td>\n",
       "      <td>0.00</td>\n",
       "      <td>1</td>\n",
       "      <td>1</td>\n",
       "      <td>1</td>\n",
       "      <td>101348.88</td>\n",
       "      <td>1</td>\n",
       "      <td>0</td>\n",
       "      <td>0</td>\n",
       "      <td>0</td>\n",
       "    </tr>\n",
       "    <tr>\n",
       "      <td>1</td>\n",
       "      <td>608</td>\n",
       "      <td>41</td>\n",
       "      <td>1.0</td>\n",
       "      <td>83807.86</td>\n",
       "      <td>1</td>\n",
       "      <td>0</td>\n",
       "      <td>1</td>\n",
       "      <td>112542.58</td>\n",
       "      <td>0</td>\n",
       "      <td>0</td>\n",
       "      <td>1</td>\n",
       "      <td>0</td>\n",
       "    </tr>\n",
       "    <tr>\n",
       "      <td>2</td>\n",
       "      <td>502</td>\n",
       "      <td>42</td>\n",
       "      <td>8.0</td>\n",
       "      <td>159660.80</td>\n",
       "      <td>3</td>\n",
       "      <td>1</td>\n",
       "      <td>0</td>\n",
       "      <td>113931.57</td>\n",
       "      <td>1</td>\n",
       "      <td>0</td>\n",
       "      <td>0</td>\n",
       "      <td>0</td>\n",
       "    </tr>\n",
       "  </tbody>\n",
       "</table>\n",
       "</div>"
      ],
      "text/plain": [
       "   CreditScore  Age  Tenure    Balance  NumOfProducts  HasCrCard  \\\n",
       "0          619   42     2.0       0.00              1          1   \n",
       "1          608   41     1.0   83807.86              1          0   \n",
       "2          502   42     8.0  159660.80              3          1   \n",
       "\n",
       "   IsActiveMember  EstimatedSalary  Exited  Geography_Germany  \\\n",
       "0               1        101348.88       1                  0   \n",
       "1               1        112542.58       0                  0   \n",
       "2               0        113931.57       1                  0   \n",
       "\n",
       "   Geography_Spain  Gender_Male  \n",
       "0                0            0  \n",
       "1                1            0  \n",
       "2                0            0  "
      ]
     },
     "execution_count": 14,
     "metadata": {},
     "output_type": "execute_result"
    }
   ],
   "source": [
    "data_ohe = pd.get_dummies(data, drop_first=True) \n",
    "data_ohe.head(3)"
   ]
  },
  {
   "cell_type": "markdown",
   "metadata": {},
   "source": [
    "Данные подготовили."
   ]
  },
  {
   "cell_type": "markdown",
   "metadata": {},
   "source": [
    "### Вывод ###"
   ]
  },
  {
   "cell_type": "markdown",
   "metadata": {},
   "source": [
    "Данные представляют собой массив из 10000 клиентов, характеризуемых 14тю признаками, описывающих их состояние и поведение.   \n",
    "3 признака `RowNumber`,\t`CustomerId`,\t`Surname` не являются значимыми для прогнозируемых модели, поэтому их удалили.   \n",
    "В признаке `Tenure` имеется порядка 9.1% пропусков. Решено было удалить объекты с пропусками, чтобы не влиять на результаты метрик искусственным заполнением.   \n",
    "Проверили корреляцию признаков, она оказалась маленькой и незначительной.  \n",
    "Выявили подозрительные аномальные значения, которые не носят системный характер, поэтому оставили без изменений.  \n",
    "Так же заметили дисбаланс классов целевого признака, который в перспективе будем обрабатывать для корректной работы моделей.  \n",
    "Заменили категориальные признаки численными для дальнейшей работы с моделями.\n"
   ]
  },
  {
   "cell_type": "markdown",
   "metadata": {},
   "source": [
    "## Исследование задачи"
   ]
  },
  {
   "cell_type": "markdown",
   "metadata": {},
   "source": [
    "Отделяем целевой признак от фичей.  \n",
    "Делим на обучающую, валидационную и тестовую выборки в пропорции 60:20:20. "
   ]
  },
  {
   "cell_type": "code",
   "execution_count": 15,
   "metadata": {},
   "outputs": [],
   "source": [
    "target = data_ohe['Exited']\n",
    "features = data_ohe.drop(['Exited'] , axis=1)\n",
    " \n",
    "features_train, features_val_test, target_train, target_val_test = train_test_split(features,target, stratify=target, test_size=0.4, random_state=12345)\n",
    "features_test, features_valid, target_test, target_valid = train_test_split(features_val_test, target_val_test, test_size=0.5, random_state=12345)"
   ]
  },
  {
   "cell_type": "markdown",
   "metadata": {},
   "source": [
    "Проверим соотношение разбивки."
   ]
  },
  {
   "cell_type": "code",
   "execution_count": 16,
   "metadata": {},
   "outputs": [],
   "source": [
    "def percent_ratio(df, title):\n",
    "    percent_ratio = np.around(df.shape[0] / features.shape[0] * 100)\n",
    "    print('Процентое соотношение', title, 'от исходных данных:', percent_ratio, '%')"
   ]
  },
  {
   "cell_type": "code",
   "execution_count": 17,
   "metadata": {},
   "outputs": [
    {
     "name": "stdout",
     "output_type": "stream",
     "text": [
      "Процентое соотношение features_train от исходных данных: 60.0 %\n",
      "Процентое соотношение features_valid от исходных данных: 20.0 %\n",
      "Процентое соотношение features_test от исходных данных: 20.0 %\n"
     ]
    }
   ],
   "source": [
    "percent_ratio(features_train,'features_train')\n",
    "percent_ratio(features_valid,'features_valid')\n",
    "percent_ratio(features_test,'features_test')"
   ]
  },
  {
   "cell_type": "markdown",
   "metadata": {},
   "source": [
    "Масштабируем признаки с помощью стандартизации данных, чтобы модели  равнозначно учитывали все признаки."
   ]
  },
  {
   "cell_type": "code",
   "execution_count": 18,
   "metadata": {},
   "outputs": [
    {
     "data": {
      "text/html": [
       "<div>\n",
       "<style scoped>\n",
       "    .dataframe tbody tr th:only-of-type {\n",
       "        vertical-align: middle;\n",
       "    }\n",
       "\n",
       "    .dataframe tbody tr th {\n",
       "        vertical-align: top;\n",
       "    }\n",
       "\n",
       "    .dataframe thead th {\n",
       "        text-align: right;\n",
       "    }\n",
       "</style>\n",
       "<table border=\"1\" class=\"dataframe\">\n",
       "  <thead>\n",
       "    <tr style=\"text-align: right;\">\n",
       "      <th></th>\n",
       "      <th>CreditScore</th>\n",
       "      <th>Age</th>\n",
       "      <th>Tenure</th>\n",
       "      <th>Balance</th>\n",
       "      <th>NumOfProducts</th>\n",
       "      <th>HasCrCard</th>\n",
       "      <th>IsActiveMember</th>\n",
       "      <th>EstimatedSalary</th>\n",
       "      <th>Geography_Germany</th>\n",
       "      <th>Geography_Spain</th>\n",
       "      <th>Gender_Male</th>\n",
       "    </tr>\n",
       "  </thead>\n",
       "  <tbody>\n",
       "    <tr>\n",
       "      <td>9723</td>\n",
       "      <td>-1.292898</td>\n",
       "      <td>-0.660843</td>\n",
       "      <td>0.686341</td>\n",
       "      <td>0.786636</td>\n",
       "      <td>-0.910943</td>\n",
       "      <td>0</td>\n",
       "      <td>0</td>\n",
       "      <td>-0.223548</td>\n",
       "      <td>0</td>\n",
       "      <td>0</td>\n",
       "      <td>1</td>\n",
       "    </tr>\n",
       "    <tr>\n",
       "      <td>1224</td>\n",
       "      <td>-1.563714</td>\n",
       "      <td>0.778434</td>\n",
       "      <td>1.034232</td>\n",
       "      <td>0.833795</td>\n",
       "      <td>-0.910943</td>\n",
       "      <td>1</td>\n",
       "      <td>0</td>\n",
       "      <td>1.383021</td>\n",
       "      <td>0</td>\n",
       "      <td>1</td>\n",
       "      <td>0</td>\n",
       "    </tr>\n",
       "    <tr>\n",
       "      <td>8377</td>\n",
       "      <td>1.581914</td>\n",
       "      <td>0.106771</td>\n",
       "      <td>-0.357331</td>\n",
       "      <td>-1.222967</td>\n",
       "      <td>0.789359</td>\n",
       "      <td>1</td>\n",
       "      <td>1</td>\n",
       "      <td>-0.308331</td>\n",
       "      <td>0</td>\n",
       "      <td>1</td>\n",
       "      <td>1</td>\n",
       "    </tr>\n",
       "    <tr>\n",
       "      <td>8014</td>\n",
       "      <td>0.842379</td>\n",
       "      <td>0.010820</td>\n",
       "      <td>-1.053112</td>\n",
       "      <td>0.807063</td>\n",
       "      <td>-0.910943</td>\n",
       "      <td>1</td>\n",
       "      <td>1</td>\n",
       "      <td>-0.430980</td>\n",
       "      <td>0</td>\n",
       "      <td>1</td>\n",
       "      <td>0</td>\n",
       "    </tr>\n",
       "    <tr>\n",
       "      <td>2491</td>\n",
       "      <td>-0.397123</td>\n",
       "      <td>-1.236554</td>\n",
       "      <td>-0.357331</td>\n",
       "      <td>-1.222967</td>\n",
       "      <td>0.789359</td>\n",
       "      <td>1</td>\n",
       "      <td>1</td>\n",
       "      <td>1.392642</td>\n",
       "      <td>0</td>\n",
       "      <td>1</td>\n",
       "      <td>0</td>\n",
       "    </tr>\n",
       "  </tbody>\n",
       "</table>\n",
       "</div>"
      ],
      "text/plain": [
       "      CreditScore       Age    Tenure   Balance  NumOfProducts  HasCrCard  \\\n",
       "9723    -1.292898 -0.660843  0.686341  0.786636      -0.910943          0   \n",
       "1224    -1.563714  0.778434  1.034232  0.833795      -0.910943          1   \n",
       "8377     1.581914  0.106771 -0.357331 -1.222967       0.789359          1   \n",
       "8014     0.842379  0.010820 -1.053112  0.807063      -0.910943          1   \n",
       "2491    -0.397123 -1.236554 -0.357331 -1.222967       0.789359          1   \n",
       "\n",
       "      IsActiveMember  EstimatedSalary  Geography_Germany  Geography_Spain  \\\n",
       "9723               0        -0.223548                  0                0   \n",
       "1224               0         1.383021                  0                1   \n",
       "8377               1        -0.308331                  0                1   \n",
       "8014               1        -0.430980                  0                1   \n",
       "2491               1         1.392642                  0                1   \n",
       "\n",
       "      Gender_Male  \n",
       "9723            1  \n",
       "1224            0  \n",
       "8377            1  \n",
       "8014            0  \n",
       "2491            0  "
      ]
     },
     "execution_count": 18,
     "metadata": {},
     "output_type": "execute_result"
    }
   ],
   "source": [
    "numeric=['CreditScore','Age','Tenure','Balance','NumOfProducts', 'EstimatedSalary']\n",
    "scaler = StandardScaler()\n",
    "scaler.fit(features_train[numeric]) \n",
    "features_train[numeric] = scaler.transform(features_train[numeric])\n",
    "features_valid[numeric]= scaler.transform(features_valid[numeric]) \n",
    "features_test[numeric]= scaler.transform(features_test[numeric]) \n",
    "features_train.head()\n"
   ]
  },
  {
   "cell_type": "markdown",
   "metadata": {},
   "source": [
    "Дисбаланс целевого признака выявили еще на подготовке, а теперь его визуализируем для обучающей выборки."
   ]
  },
  {
   "cell_type": "code",
   "execution_count": 19,
   "metadata": {
    "scrolled": true
   },
   "outputs": [
    {
     "data": {
      "image/png": "[encoded data removed]",
      "text/plain": [
       "<Figure size 360x360 with 1 Axes>"
      ]
     },
     "metadata": {
      "needs_background": "light"
     },
     "output_type": "display_data"
    }
   ],
   "source": [
    "target_train.value_counts().plot(kind='bar',grid=True,figsize=(5,5),\n",
    "                           title='Дисбаланс классов целевого признака')\n",
    "plt.xlabel(\"Значение признака\", fontsize=10)\n",
    "plt.yticks(np.arange(0, 6000, 500), fontsize= 10 )\n",
    "plt.ylabel(\"Количество объектов, шт.\", fontsize=10)\n",
    "plt.show()"
   ]
  },
  {
   "cell_type": "markdown",
   "metadata": {},
   "source": [
    "Разница почти в 4 раза.\n",
    "Компенсировать в третьей главе проекта будем 3мя вариантами:\n",
    "    - при объявлении всех моделей добавим параметр class_weight = 'balanced'\n",
    "    - используя функцию Upsampling, увеличим в обучающей выборке количество клиентов оттока (target==1)  \n",
    "    - используя функцию Downsampling, уменьшим  в обучающей выборке количество клиентов оттока (target==0)  \n",
    "    \n",
    "**Посмотрим пока на модели без учёта дисбаланса**  \n",
    "Чтобы сдать проект успешно, нужно довести метрику F1 до значения 0.59\n"
   ]
  },
  {
   "cell_type": "markdown",
   "metadata": {},
   "source": [
    "### Дерево решений ###"
   ]
  },
  {
   "cell_type": "markdown",
   "metadata": {},
   "source": [
    "Подберём гиперпараметр max_depth с наилучшим значением F1 у модели."
   ]
  },
  {
   "cell_type": "code",
   "execution_count": 20,
   "metadata": {},
   "outputs": [
    {
     "name": "stdout",
     "output_type": "stream",
     "text": [
      "F1 наилучшей модели на валидационной выборке: 0.5394\n",
      "Максимальная глубина дерева: 5\n"
     ]
    },
    {
     "data": {
      "text/html": [
       "<div>\n",
       "<style scoped>\n",
       "    .dataframe tbody tr th:only-of-type {\n",
       "        vertical-align: middle;\n",
       "    }\n",
       "\n",
       "    .dataframe tbody tr th {\n",
       "        vertical-align: top;\n",
       "    }\n",
       "\n",
       "    .dataframe thead th {\n",
       "        text-align: right;\n",
       "    }\n",
       "</style>\n",
       "<table border=\"1\" class=\"dataframe\">\n",
       "  <thead>\n",
       "    <tr style=\"text-align: right;\">\n",
       "      <th></th>\n",
       "      <th>max_depth</th>\n",
       "      <th>f1_valid</th>\n",
       "    </tr>\n",
       "  </thead>\n",
       "  <tbody>\n",
       "    <tr>\n",
       "      <td>0</td>\n",
       "      <td>1</td>\n",
       "      <td>0.0000</td>\n",
       "    </tr>\n",
       "    <tr>\n",
       "      <td>1</td>\n",
       "      <td>2</td>\n",
       "      <td>0.5017</td>\n",
       "    </tr>\n",
       "    <tr>\n",
       "      <td>2</td>\n",
       "      <td>3</td>\n",
       "      <td>0.5061</td>\n",
       "    </tr>\n",
       "    <tr>\n",
       "      <td>3</td>\n",
       "      <td>4</td>\n",
       "      <td>0.5009</td>\n",
       "    </tr>\n",
       "    <tr>\n",
       "      <td>4</td>\n",
       "      <td>5</td>\n",
       "      <td>0.5394</td>\n",
       "    </tr>\n",
       "    <tr>\n",
       "      <td>5</td>\n",
       "      <td>6</td>\n",
       "      <td>0.5269</td>\n",
       "    </tr>\n",
       "    <tr>\n",
       "      <td>6</td>\n",
       "      <td>7</td>\n",
       "      <td>0.5340</td>\n",
       "    </tr>\n",
       "    <tr>\n",
       "      <td>7</td>\n",
       "      <td>8</td>\n",
       "      <td>0.5069</td>\n",
       "    </tr>\n",
       "    <tr>\n",
       "      <td>8</td>\n",
       "      <td>9</td>\n",
       "      <td>0.4871</td>\n",
       "    </tr>\n",
       "    <tr>\n",
       "      <td>9</td>\n",
       "      <td>10</td>\n",
       "      <td>0.5157</td>\n",
       "    </tr>\n",
       "  </tbody>\n",
       "</table>\n",
       "</div>"
      ],
      "text/plain": [
       "   max_depth  f1_valid\n",
       "0          1    0.0000\n",
       "1          2    0.5017\n",
       "2          3    0.5061\n",
       "3          4    0.5009\n",
       "4          5    0.5394\n",
       "5          6    0.5269\n",
       "6          7    0.5340\n",
       "7          8    0.5069\n",
       "8          9    0.4871\n",
       "9         10    0.5157"
      ]
     },
     "execution_count": 20,
     "metadata": {},
     "output_type": "execute_result"
    }
   ],
   "source": [
    "train_tree = []\n",
    "valid_tree = [] \n",
    "best_model_tree = None\n",
    "best_result_tree = 0 #0.59 не достигает\n",
    "best_depth = 0\n",
    "for depth in range(1, 21, 1):\n",
    "    model_tree = DecisionTreeClassifier(random_state=12345, max_depth=depth)\n",
    "    model_tree.fit(features_train, target_train)\n",
    "    \n",
    "    predict_train_tree = model_tree.predict(features_train)\n",
    "    f1_train_tree = f1_score(target_train, predict_train_tree) \n",
    "    train_tree.append(f1_train_tree.round(4))\n",
    "\n",
    "    predicted_valid = model_tree.predict(features_valid)\n",
    "    f1_valid_tree = f1_score(target_valid, predicted_valid) \n",
    "    valid_tree.append(f1_valid_tree.round(4))\n",
    "    \n",
    "    if f1_valid_tree > best_result_tree:\n",
    "        best_model_tree = model_tree\n",
    "        best_result_tree = f1_valid_tree\n",
    "        best_depth = depth\n",
    "          \n",
    "print(\"F1 наилучшей модели на валидационной выборке:\", best_result_tree.round(4))\n",
    "print(\"Максимальная глубина дерева:\", best_depth)\n",
    "\n",
    "f1_tree = pd.DataFrame([train_tree,valid_tree], columns = range(1,21)).T.reset_index() \n",
    "f1_tree.columns = ['max_depth','f1_train','f1_valid']\n",
    "f1_tree[['max_depth', 'f1_valid']]. head(10)"
   ]
  },
  {
   "cell_type": "markdown",
   "metadata": {},
   "source": [
    "Визуализируем значение F1 модели \"Решающее дерево\" от глубины дерева по обучающей и валидационной выбрке на графике."
   ]
  },
  {
   "cell_type": "code",
   "execution_count": 21,
   "metadata": {
    "scrolled": false
   },
   "outputs": [
    {
     "data": {
      "image/png": "[encoded data removed]",
      "text/plain": [
       "<Figure size 1080x360 with 1 Axes>"
      ]
     },
     "metadata": {
      "needs_background": "light"
     },
     "output_type": "display_data"
    }
   ],
   "source": [
    "x = f1_tree['max_depth']\n",
    "y = f1_tree['f1_train']\n",
    "z = f1_tree['f1_valid']\n",
    "plt.figure(figsize=(15,5))\n",
    "plt.xlim(2,10)\n",
    "plt.ylim(0.4,0.75)\n",
    "plt.plot(x, y, color='grey', label = 'train')\n",
    "plt.plot(x, z,  color = 'blue', label = 'validate',marker = \"o\")\n",
    "plt.title('Распределение среднего гармонического полноты и точности (F1) от значения гиперпараметра \"Глубина дерева\"')\n",
    "plt.xlabel('Глубина дерева')\n",
    "plt.ylabel('Значение F1')\n",
    "plt.yticks(np.arange(0.4, 0.75, 0.05))\n",
    "plt.grid() \n",
    "plt.legend()\n",
    "plt.show()"
   ]
  },
  {
   "cell_type": "code",
   "execution_count": 22,
   "metadata": {},
   "outputs": [],
   "source": [
    "def auc_roc(choose_model, model_name):\n",
    "    probabilities_valid = choose_model.predict_proba(features_valid)\n",
    "    probabilities_one_valid = probabilities_valid[:, 1]\n",
    "    auc_roc = roc_auc_score(target_valid, probabilities_one_valid) \n",
    "    print('AUC-ROC модели', model_name, '=', auc_roc.round(4))"
   ]
  },
  {
   "cell_type": "code",
   "execution_count": 23,
   "metadata": {},
   "outputs": [
    {
     "name": "stdout",
     "output_type": "stream",
     "text": [
      "AUC-ROC модели Дерево решений = 0.8253\n"
     ]
    }
   ],
   "source": [
    "auc_roc(best_model_tree, 'Дерево решений')"
   ]
  },
  {
   "cell_type": "markdown",
   "metadata": {},
   "source": [
    "**`Дерево решений DecisionTreeClassifier()`**  \n",
    "Лучшая метрика модели **F1 = 0.5394**   \n",
    "при гиперпаратемтре **Глубина дерева: 5**,   \n",
    "**AUC-ROC =  0.8253**, что больше значения F1."
   ]
  },
  {
   "cell_type": "markdown",
   "metadata": {},
   "source": [
    "### Случайный лес ###"
   ]
  },
  {
   "cell_type": "markdown",
   "metadata": {},
   "source": [
    "Подберём гиперпараметр max_depth, и грубо найдём наиболее перспективную область n_estimators."
   ]
  },
  {
   "cell_type": "code",
   "execution_count": 24,
   "metadata": {},
   "outputs": [
    {
     "name": "stdout",
     "output_type": "stream",
     "text": [
      "F1 наилучшей модели на валидационной выборке: 0.5719\n",
      "Количество деревьев: 51 Максимальная глубина: 9\n"
     ]
    }
   ],
   "source": [
    "best_model = None\n",
    "best_result = 0 #0.59 не достигает\n",
    "best_est = 0\n",
    "best_depth = 0\n",
    "for depth in range (1, 10):\n",
    "    for est in range(1, 101, 10):\n",
    "        model = RandomForestClassifier(random_state= 12345, n_estimators=est, max_depth = depth)\n",
    "        model.fit(features_train, target_train) \n",
    "        predict_valid_forest = model.predict(features_valid) \n",
    "        result = f1_score(target_valid, predict_valid_forest)  \n",
    "        if result > best_result:\n",
    "            best_model = model\n",
    "            best_result = result\n",
    "            best_depth = depth\n",
    "            best_est = est\n",
    "        \n",
    "print(\"F1 наилучшей модели на валидационной выборке:\", best_result.round(4))\n",
    "print(\"Количество деревьев:\", best_est, \"Максимальная глубина:\", best_depth)"
   ]
  },
  {
   "cell_type": "markdown",
   "metadata": {},
   "source": [
    "Глубину дерева max_depth определили, она равна 9.\n",
    "Перспективную область n_estimators тоже определили. Возьмём диапозон n_estimators от 44 до 55."
   ]
  },
  {
   "cell_type": "code",
   "execution_count": 25,
   "metadata": {},
   "outputs": [
    {
     "name": "stdout",
     "output_type": "stream",
     "text": [
      "F1 наилучшей модели на валидационной выборке: 0.5719\n",
      "Количество деревьев: 51 , Максимальная глубина дерева: 9\n"
     ]
    },
    {
     "data": {
      "text/html": [
       "<div>\n",
       "<style scoped>\n",
       "    .dataframe tbody tr th:only-of-type {\n",
       "        vertical-align: middle;\n",
       "    }\n",
       "\n",
       "    .dataframe tbody tr th {\n",
       "        vertical-align: top;\n",
       "    }\n",
       "\n",
       "    .dataframe thead th {\n",
       "        text-align: right;\n",
       "    }\n",
       "</style>\n",
       "<table border=\"1\" class=\"dataframe\">\n",
       "  <thead>\n",
       "    <tr style=\"text-align: right;\">\n",
       "      <th></th>\n",
       "      <th>n_estimators</th>\n",
       "      <th>f1_valid</th>\n",
       "    </tr>\n",
       "  </thead>\n",
       "  <tbody>\n",
       "    <tr>\n",
       "      <td>0</td>\n",
       "      <td>44</td>\n",
       "      <td>0.5624</td>\n",
       "    </tr>\n",
       "    <tr>\n",
       "      <td>1</td>\n",
       "      <td>45</td>\n",
       "      <td>0.5639</td>\n",
       "    </tr>\n",
       "    <tr>\n",
       "      <td>2</td>\n",
       "      <td>46</td>\n",
       "      <td>0.5639</td>\n",
       "    </tr>\n",
       "    <tr>\n",
       "      <td>3</td>\n",
       "      <td>47</td>\n",
       "      <td>0.5714</td>\n",
       "    </tr>\n",
       "    <tr>\n",
       "      <td>4</td>\n",
       "      <td>48</td>\n",
       "      <td>0.5709</td>\n",
       "    </tr>\n",
       "    <tr>\n",
       "      <td>5</td>\n",
       "      <td>49</td>\n",
       "      <td>0.5709</td>\n",
       "    </tr>\n",
       "    <tr>\n",
       "      <td>6</td>\n",
       "      <td>50</td>\n",
       "      <td>0.5684</td>\n",
       "    </tr>\n",
       "    <tr>\n",
       "      <td>7</td>\n",
       "      <td>51</td>\n",
       "      <td>0.5719</td>\n",
       "    </tr>\n",
       "    <tr>\n",
       "      <td>8</td>\n",
       "      <td>52</td>\n",
       "      <td>0.5694</td>\n",
       "    </tr>\n",
       "    <tr>\n",
       "      <td>9</td>\n",
       "      <td>53</td>\n",
       "      <td>0.5719</td>\n",
       "    </tr>\n",
       "    <tr>\n",
       "      <td>10</td>\n",
       "      <td>54</td>\n",
       "      <td>0.5709</td>\n",
       "    </tr>\n",
       "  </tbody>\n",
       "</table>\n",
       "</div>"
      ],
      "text/plain": [
       "    n_estimators  f1_valid\n",
       "0             44    0.5624\n",
       "1             45    0.5639\n",
       "2             46    0.5639\n",
       "3             47    0.5714\n",
       "4             48    0.5709\n",
       "5             49    0.5709\n",
       "6             50    0.5684\n",
       "7             51    0.5719\n",
       "8             52    0.5694\n",
       "9             53    0.5719\n",
       "10            54    0.5709"
      ]
     },
     "execution_count": 25,
     "metadata": {},
     "output_type": "execute_result"
    }
   ],
   "source": [
    "train_forest = []\n",
    "valid_forest = []\n",
    "best_result_forest = 0 #0.59 не достигает\n",
    "best_model_forest = None\n",
    "best_depth = 9\n",
    "best_est = 0\n",
    "\n",
    "for est in range(44, 55):\n",
    "    \n",
    "    model_forest = RandomForestClassifier(random_state=12345, n_estimators=est, max_depth=best_depth)\n",
    "    model_forest.fit(features_train, target_train)\n",
    "    \n",
    "    predict_train_forest = model_forest.predict(features_train)\n",
    "    f1_train_forest = f1_score(target_train, predict_train_forest)\n",
    "    train_forest.append(f1_train_forest.round(4))\n",
    "\n",
    "    predict_valid_forest = model_forest.predict(features_valid) \n",
    "    f1_valid_forest = f1_score(target_valid, predict_valid_forest) \n",
    "    valid_forest.append(f1_valid_forest.round(4))\n",
    "    \n",
    "    if f1_valid_forest > best_result_forest:\n",
    "        best_model_forest = model_forest\n",
    "        best_result_forest = f1_valid_forest\n",
    "        best_est = est\n",
    "\n",
    "print(\"F1 наилучшей модели на валидационной выборке:\", best_result_forest.round(4))\n",
    "print(\"Количество деревьев:\", best_est, \", Максимальная глубина дерева:\", best_depth)\n",
    "       \n",
    "f1_forest = pd.DataFrame( [train_forest, valid_forest],columns = range(44,55)).T.reset_index() \n",
    "f1_forest.columns = ['n_estimators', 'f1_train', 'f1_valid']\n",
    "f1_forest[['n_estimators','f1_valid']]"
   ]
  },
  {
   "cell_type": "code",
   "execution_count": 26,
   "metadata": {},
   "outputs": [
    {
     "data": {
      "image/png": "[encoded data removed]",
      "text/plain": [
       "<Figure size 1080x360 with 1 Axes>"
      ]
     },
     "metadata": {
      "needs_background": "light"
     },
     "output_type": "display_data"
    }
   ],
   "source": [
    "x = f1_forest['n_estimators']\n",
    "y = f1_forest['f1_train']\n",
    "z = f1_forest['f1_valid']\n",
    "plt.figure(figsize=(15,5))\n",
    "plt.xlim(44,54)\n",
    "plt.ylim(0.53,0.7)\n",
    "plt.plot(x, y, color='grey', label = 'train')\n",
    "plt.plot(x, z,  color = 'red', label = 'validate', marker = \"o\")\n",
    "plt.title('Распределение среднего гармонического полноты и точности (F1) от значения гиперпараметра \"Количество деревьев\"')\n",
    "plt.xlabel('Количество деревьев')\n",
    "plt.ylabel('Значение F1')\n",
    "plt.xticks(np.arange(44, 54, 1))\n",
    "plt.grid()\n",
    "plt.legend()\n",
    "plt.show()"
   ]
  },
  {
   "cell_type": "code",
   "execution_count": 27,
   "metadata": {},
   "outputs": [
    {
     "name": "stdout",
     "output_type": "stream",
     "text": [
      "AUC-ROC модели Случайный лес = 0.8625\n"
     ]
    }
   ],
   "source": [
    "auc_roc(best_model_forest, 'Случайный лес')"
   ]
  },
  {
   "cell_type": "markdown",
   "metadata": {},
   "source": [
    "Модель **`Случайный лес  RandomForestClassifier()`**  \n",
    "Лучшая метрика **F1 = 0.5719** при гиперпаратемтрах **Глубина дерева = 9** и **Количестве деревьев = 51**.    \n",
    "**AUC-ROC = 0.8625**. F1 больше и AUC-ROC тоже больше."
   ]
  },
  {
   "cell_type": "markdown",
   "metadata": {},
   "source": [
    "### Логистическая регрессия"
   ]
  },
  {
   "cell_type": "code",
   "execution_count": 28,
   "metadata": {},
   "outputs": [
    {
     "name": "stdout",
     "output_type": "stream",
     "text": [
      "F1 модели на валидационной выборке = 0.3432\n"
     ]
    }
   ],
   "source": [
    "model_logregress = LogisticRegression(random_state=12345) \n",
    "model_logregress.fit(features_train, target_train)\n",
    "predictions_valid_logregress = model_logregress.predict(features_valid) \n",
    "f1_valid_logregress = f1_score(target_valid, predictions_valid_logregress)\n",
    "print('F1 модели на валидационной выборке =', f1_valid_logregress.round(4))"
   ]
  },
  {
   "cell_type": "code",
   "execution_count": 29,
   "metadata": {},
   "outputs": [
    {
     "name": "stdout",
     "output_type": "stream",
     "text": [
      "AUC-ROC модели Логистическая регрессия = 0.7802\n"
     ]
    }
   ],
   "source": [
    "auc_roc(model_logregress, 'Логистическая регрессия')"
   ]
  },
  {
   "cell_type": "markdown",
   "metadata": {},
   "source": [
    "Модель **`Логистическая регрессия LogisticRegression()`**   \n",
    "Метрика **F1 = 0.3432**  **AUC-ROC = 0.7802**.   \n",
    "F1 меньше и AUC-ROC тоже меньше."
   ]
  },
  {
   "cell_type": "markdown",
   "metadata": {},
   "source": [
    "### Вывод"
   ]
  },
  {
   "cell_type": "markdown",
   "metadata": {},
   "source": [
    "Обучили три модели классификации без учёта дисбаланса классов и получили их лучшие метрики  среднего гармонического полноты и точности (F1) и площади под ROC-кривой:\n",
    "\n",
    "model                     | max_depth | n_estimator| F1      | AUC-ROC\n",
    ":------------------------ |:---------:|:----------:|:-------:|:-------:\n",
    "DecisionTreeClassifier()  | 5         | -          | 0.5394  | 0.8253\n",
    "RandomForestClassifier()  | 9         | 51         | 0.5719  | 0.8625\n",
    "LogisticRegression()      | -         | -          | 0.3432  | 0.7802\n",
    "\n",
    "**Лучшая метрика F1 у модели \"Случайный лес\".** Но она ниже указанного значения 0.59.   \n",
    "**Лучшее значение AUC-ROC тоже у этой модели.** Переходим к балансировке классов."
   ]
  },
  {
   "cell_type": "markdown",
   "metadata": {},
   "source": [
    "## Борьба с дисбалансом"
   ]
  },
  {
   "cell_type": "markdown",
   "metadata": {},
   "source": [
    "По дисбалансу пройдемся 3мя методами по всем моделям для отбора лучшей метрики. "
   ]
  },
  {
   "cell_type": "markdown",
   "metadata": {},
   "source": [
    "### class_weight = 'balanced'"
   ]
  },
  {
   "cell_type": "markdown",
   "metadata": {},
   "source": [
    "**Дерево решений** с подбором лучшего гиперпараметра Глубина дерева"
   ]
  },
  {
   "cell_type": "code",
   "execution_count": 30,
   "metadata": {},
   "outputs": [
    {
     "name": "stdout",
     "output_type": "stream",
     "text": [
      "F1 наилучшей модели на валидационной выборке: 0.5701\n",
      "Максимальная глубина дерева: 8\n"
     ]
    },
    {
     "data": {
      "text/html": [
       "<div>\n",
       "<style scoped>\n",
       "    .dataframe tbody tr th:only-of-type {\n",
       "        vertical-align: middle;\n",
       "    }\n",
       "\n",
       "    .dataframe tbody tr th {\n",
       "        vertical-align: top;\n",
       "    }\n",
       "\n",
       "    .dataframe thead th {\n",
       "        text-align: right;\n",
       "    }\n",
       "</style>\n",
       "<table border=\"1\" class=\"dataframe\">\n",
       "  <thead>\n",
       "    <tr style=\"text-align: right;\">\n",
       "      <th></th>\n",
       "      <th>max_depth</th>\n",
       "      <th>f1_valid</th>\n",
       "    </tr>\n",
       "  </thead>\n",
       "  <tbody>\n",
       "    <tr>\n",
       "      <td>0</td>\n",
       "      <td>1</td>\n",
       "      <td>0.4662</td>\n",
       "    </tr>\n",
       "    <tr>\n",
       "      <td>1</td>\n",
       "      <td>2</td>\n",
       "      <td>0.4871</td>\n",
       "    </tr>\n",
       "    <tr>\n",
       "      <td>2</td>\n",
       "      <td>3</td>\n",
       "      <td>0.4871</td>\n",
       "    </tr>\n",
       "    <tr>\n",
       "      <td>3</td>\n",
       "      <td>4</td>\n",
       "      <td>0.5458</td>\n",
       "    </tr>\n",
       "    <tr>\n",
       "      <td>4</td>\n",
       "      <td>5</td>\n",
       "      <td>0.5622</td>\n",
       "    </tr>\n",
       "    <tr>\n",
       "      <td>5</td>\n",
       "      <td>6</td>\n",
       "      <td>0.5662</td>\n",
       "    </tr>\n",
       "    <tr>\n",
       "      <td>6</td>\n",
       "      <td>7</td>\n",
       "      <td>0.5600</td>\n",
       "    </tr>\n",
       "    <tr>\n",
       "      <td>7</td>\n",
       "      <td>8</td>\n",
       "      <td>0.5701</td>\n",
       "    </tr>\n",
       "    <tr>\n",
       "      <td>8</td>\n",
       "      <td>9</td>\n",
       "      <td>0.5559</td>\n",
       "    </tr>\n",
       "    <tr>\n",
       "      <td>9</td>\n",
       "      <td>10</td>\n",
       "      <td>0.5255</td>\n",
       "    </tr>\n",
       "  </tbody>\n",
       "</table>\n",
       "</div>"
      ],
      "text/plain": [
       "   max_depth  f1_valid\n",
       "0          1    0.4662\n",
       "1          2    0.4871\n",
       "2          3    0.4871\n",
       "3          4    0.5458\n",
       "4          5    0.5622\n",
       "5          6    0.5662\n",
       "6          7    0.5600\n",
       "7          8    0.5701\n",
       "8          9    0.5559\n",
       "9         10    0.5255"
      ]
     },
     "execution_count": 30,
     "metadata": {},
     "output_type": "execute_result"
    }
   ],
   "source": [
    "train_tree_balanced = []\n",
    "valid_tree_balanced = []\n",
    "best_model_tree = None\n",
    "best_result_tree = 0\n",
    "best_depth = 0\n",
    "for depth in range(1, 21):\n",
    "    model_tree = DecisionTreeClassifier(class_weight='balanced', random_state=12345, max_depth=depth)\n",
    "    model_tree.fit(features_train, target_train)\n",
    "    \n",
    "    predict_train_tree = model_tree.predict(features_train)\n",
    "    f1_train_tree = f1_score(target_train, predict_train_tree) \n",
    "    train_tree_balanced.append(f1_train_tree.round(4))\n",
    "\n",
    "    predicted_valid = model_tree.predict(features_valid)\n",
    "    f1_valid_tree = f1_score(target_valid, predicted_valid) \n",
    "    valid_tree_balanced.append(f1_valid_tree.round(4))\n",
    "    \n",
    "    if f1_valid_tree > best_result_tree:\n",
    "        best_model_tree = model_tree\n",
    "        best_result_tree = f1_valid_tree\n",
    "        best_depth = depth\n",
    "          \n",
    "print(\"F1 наилучшей модели на валидационной выборке:\", best_result_tree.round(4))\n",
    "print(\"Максимальная глубина дерева:\", best_depth)\n",
    "\n",
    "f1_tree_balanced = pd.DataFrame([train_tree_balanced,valid_tree_balanced], columns = range(1,21)).T.reset_index() \n",
    "f1_tree_balanced.columns = ['max_depth','f1_train','f1_valid']\n",
    "f1_tree_balanced[['max_depth', 'f1_valid']].head(10)"
   ]
  },
  {
   "cell_type": "code",
   "execution_count": 31,
   "metadata": {},
   "outputs": [
    {
     "name": "stdout",
     "output_type": "stream",
     "text": [
      "AUC-ROC модели Дерево решений = 0.8027\n"
     ]
    }
   ],
   "source": [
    "auc_roc(best_model_tree, 'Дерево решений')"
   ]
  },
  {
   "cell_type": "markdown",
   "metadata": {},
   "source": [
    "Модель **`Дерево решений DecisionTreeClassifier(class_weight = 'balanced')`**   \n",
    "**F1 = 0.5701**  при **Глубине дерева = 8**  \n",
    "**AUCK-ROC = 0.8027**. F1 выше и AUC-ROC выше."
   ]
  },
  {
   "cell_type": "markdown",
   "metadata": {},
   "source": [
    "**Случайный лес** с подбором гиперпараметров Глубина дерева и Количество деревьев. "
   ]
  },
  {
   "cell_type": "code",
   "execution_count": 32,
   "metadata": {},
   "outputs": [
    {
     "name": "stdout",
     "output_type": "stream",
     "text": [
      "F1 наилучшей модели на валидационной выборке: 0.6136\n",
      "Количество деревьев: 51 , Максимальная глубина: 8\n"
     ]
    }
   ],
   "source": [
    "best_model = None\n",
    "best_result = 0.59\n",
    "best_est = 0\n",
    "best_depth = 0\n",
    "for depth in range (1, 10):\n",
    "    for est in range(1, 101, 10):\n",
    "        model = RandomForestClassifier(class_weight='balanced', random_state= 12345, \n",
    "                                       n_estimators=est, max_depth = depth)\n",
    "        model.fit(features_train, target_train) \n",
    "        predict_valid_forest = model.predict(features_valid) \n",
    "        result = f1_score(target_valid, predict_valid_forest)\n",
    "        \n",
    "        if result > best_result:\n",
    "            best_model = model\n",
    "            best_result = result\n",
    "            best_depth = depth\n",
    "            best_est = est\n",
    "        \n",
    "print(\"F1 наилучшей модели на валидационной выборке:\", best_result.round(4)) \n",
    "print(\"Количество деревьев:\", best_est, \", Максимальная глубина:\", best_depth)"
   ]
  },
  {
   "cell_type": "markdown",
   "metadata": {},
   "source": [
    "Глубину подобрали. Диапозон количества деревьев сузим и возьмем 46-56, чтобы подобрать точнее."
   ]
  },
  {
   "cell_type": "code",
   "execution_count": 33,
   "metadata": {},
   "outputs": [
    {
     "name": "stdout",
     "output_type": "stream",
     "text": [
      "F1 наилучшей модели на валидационной выборке: 0.6136\n",
      "Количество деревьев: 51 , Максимальная глубина дерева: 8\n"
     ]
    },
    {
     "data": {
      "text/html": [
       "<div>\n",
       "<style scoped>\n",
       "    .dataframe tbody tr th:only-of-type {\n",
       "        vertical-align: middle;\n",
       "    }\n",
       "\n",
       "    .dataframe tbody tr th {\n",
       "        vertical-align: top;\n",
       "    }\n",
       "\n",
       "    .dataframe thead th {\n",
       "        text-align: right;\n",
       "    }\n",
       "</style>\n",
       "<table border=\"1\" class=\"dataframe\">\n",
       "  <thead>\n",
       "    <tr style=\"text-align: right;\">\n",
       "      <th></th>\n",
       "      <th>max_depth</th>\n",
       "      <th>f1_valid</th>\n",
       "    </tr>\n",
       "  </thead>\n",
       "  <tbody>\n",
       "    <tr>\n",
       "      <td>0</td>\n",
       "      <td>46</td>\n",
       "      <td>0.6035</td>\n",
       "    </tr>\n",
       "    <tr>\n",
       "      <td>1</td>\n",
       "      <td>47</td>\n",
       "      <td>0.6038</td>\n",
       "    </tr>\n",
       "    <tr>\n",
       "      <td>2</td>\n",
       "      <td>48</td>\n",
       "      <td>0.6038</td>\n",
       "    </tr>\n",
       "    <tr>\n",
       "      <td>3</td>\n",
       "      <td>49</td>\n",
       "      <td>0.6053</td>\n",
       "    </tr>\n",
       "    <tr>\n",
       "      <td>4</td>\n",
       "      <td>50</td>\n",
       "      <td>0.6096</td>\n",
       "    </tr>\n",
       "    <tr>\n",
       "      <td>5</td>\n",
       "      <td>51</td>\n",
       "      <td>0.6136</td>\n",
       "    </tr>\n",
       "    <tr>\n",
       "      <td>6</td>\n",
       "      <td>52</td>\n",
       "      <td>0.6136</td>\n",
       "    </tr>\n",
       "    <tr>\n",
       "      <td>7</td>\n",
       "      <td>53</td>\n",
       "      <td>0.6119</td>\n",
       "    </tr>\n",
       "    <tr>\n",
       "      <td>8</td>\n",
       "      <td>54</td>\n",
       "      <td>0.6109</td>\n",
       "    </tr>\n",
       "    <tr>\n",
       "      <td>9</td>\n",
       "      <td>55</td>\n",
       "      <td>0.6073</td>\n",
       "    </tr>\n",
       "  </tbody>\n",
       "</table>\n",
       "</div>"
      ],
      "text/plain": [
       "   max_depth  f1_valid\n",
       "0         46    0.6035\n",
       "1         47    0.6038\n",
       "2         48    0.6038\n",
       "3         49    0.6053\n",
       "4         50    0.6096\n",
       "5         51    0.6136\n",
       "6         52    0.6136\n",
       "7         53    0.6119\n",
       "8         54    0.6109\n",
       "9         55    0.6073"
      ]
     },
     "execution_count": 33,
     "metadata": {},
     "output_type": "execute_result"
    }
   ],
   "source": [
    "train_forest_balanced = []\n",
    "valid_forest_balanced = []\n",
    "best_result_forest = 0.59\n",
    "best_model_forest = None\n",
    "best_depth = 8\n",
    "best_est = 0\n",
    "\n",
    "for est in range(46, 56):\n",
    "    \n",
    "    model_forest = RandomForestClassifier(class_weight='balanced', random_state=12345, \n",
    "                                          n_estimators=est, max_depth=8)\n",
    "    model_forest.fit(features_train, target_train)\n",
    "    \n",
    "    predict_train_forest = model_forest.predict(features_train)\n",
    "    f1_train_forest = f1_score(target_train, predict_train_forest)\n",
    "    train_forest_balanced.append(f1_train_forest.round(4))\n",
    "\n",
    "    predict_valid_forest = model_forest.predict(features_valid)\n",
    "    f1_valid_forest = f1_score(target_valid, predict_valid_forest) \n",
    "    valid_forest_balanced.append(f1_valid_forest.round(4))\n",
    "    \n",
    "    if f1_valid_forest > best_result_forest:\n",
    "        best_model_forest = model_forest\n",
    "        best_result_forest = f1_valid_forest\n",
    "        best_est = est\n",
    "\n",
    "print(\"F1 наилучшей модели на валидационной выборке:\", best_result_forest.round(4))\n",
    "print(\"Количество деревьев:\", best_est,\", Максимальная глубина дерева:\", best_depth)\n",
    "\n",
    "f1_forest_balanced = pd.DataFrame([train_forest_balanced,valid_forest_balanced], columns = range(46,56)).T.reset_index() \n",
    "f1_forest_balanced.columns = ['max_depth','f1_train','f1_valid']\n",
    "f1_forest_balanced[['max_depth', 'f1_valid']]"
   ]
  },
  {
   "cell_type": "code",
   "execution_count": 34,
   "metadata": {},
   "outputs": [
    {
     "name": "stdout",
     "output_type": "stream",
     "text": [
      "AUC-ROC модели Случайный лес = 0.8606\n"
     ]
    }
   ],
   "source": [
    "auc_roc(best_model_forest, 'Случайный лес')"
   ]
  },
  {
   "cell_type": "markdown",
   "metadata": {},
   "source": [
    "Модель **`Случайный лес  RandomForestClassifier(class_weight = 'balanced')`**   \n",
    "**F1 = 0.6656** при  **Количестве деревьев = 20** и **Максимальнойая глубине дерева = 8**  \n",
    "**AUCK-ROC = 0.8739**, что больше F1 "
   ]
  },
  {
   "cell_type": "markdown",
   "metadata": {},
   "source": [
    "**Логистическая регрессия**"
   ]
  },
  {
   "cell_type": "code",
   "execution_count": 35,
   "metadata": {},
   "outputs": [
    {
     "name": "stdout",
     "output_type": "stream",
     "text": [
      "F1 модели на валидационной выборке =  0.5\n"
     ]
    }
   ],
   "source": [
    "model_logregress = LogisticRegression(class_weight='balanced', random_state=12345) \n",
    "model_logregress.fit(features_train, target_train)\n",
    "predictions_train_logregress = model_logregress.predict(features_train) \n",
    "predictions_valid_logregress = model_logregress.predict(features_valid) \n",
    "f1_valid_logregress = f1_score(target_valid, predictions_valid_logregress)\n",
    "print('F1 модели на валидационной выборке = ', f1_valid_logregress.round(4))"
   ]
  },
  {
   "cell_type": "code",
   "execution_count": 36,
   "metadata": {},
   "outputs": [
    {
     "name": "stdout",
     "output_type": "stream",
     "text": [
      "AUC-ROC модели Логистическая регрессия = 0.7805\n"
     ]
    }
   ],
   "source": [
    "auc_roc(model_logregress, 'Логистическая регрессия')"
   ]
  },
  {
   "cell_type": "markdown",
   "metadata": {},
   "source": [
    "Модель **`Логистическая регрессия LogisticRegression(class_weight = 'balanced')`**   \n",
    "**F1 = 0.5165**, **AUCK-ROC = 0.7947**. F1 меньше и AUC-ROC меньше. "
   ]
  },
  {
   "cell_type": "markdown",
   "metadata": {},
   "source": [
    "**Итог балансировки с использованием параметра class_weight = 'balanced'**\n",
    "\n",
    "model                     | max_depth | n_estimator| F1      | AUC-ROC\n",
    ":------------------------ |:---------:|:----------:|:-------:|: -------:\n",
    "DecisionTreeClassifier()  | 8         | -          | 0.5701  | 0.8027\n",
    "RandomForestClassifier()  | 8         | 51         | 0.6136  | 0.8606\n",
    "LogisticRegression()      | -         | -          | 0.5000  | 0.7805\n",
    "\n",
    "**Значение лучшей метрики F1 у модели \"Случайный лес\".** Она выше указанного значения 0.59.  \n",
    "**Лучшее значение AUC-ROC тоже у этой модели.** "
   ]
  },
  {
   "cell_type": "markdown",
   "metadata": {},
   "source": [
    "### Upsample"
   ]
  },
  {
   "cell_type": "markdown",
   "metadata": {},
   "source": [
    "Сбалансируем классы и увеличим в обучающей и валидационной выборках количество клиентов оттока (target==1)"
   ]
  },
  {
   "cell_type": "code",
   "execution_count": 37,
   "metadata": {},
   "outputs": [],
   "source": [
    "def upsample(features, target, repeat):\n",
    "    features_zeros = features[target == 0]\n",
    "    features_ones = features[target == 1]\n",
    "    target_zeros = target[target == 0]\n",
    "    target_ones = target[target == 1]\n",
    "    features_upsampled = pd.concat([features_zeros] + [features_ones] * repeat)\n",
    "    target_upsampled = pd.concat([target_zeros] + [target_ones] * repeat)\n",
    "    features_upsampled, target_upsampled = shuffle(\n",
    "        features_upsampled, target_upsampled, random_state=12345)\n",
    "    return features_upsampled, target_upsampled\n",
    "\n",
    "features_train_upsampled, target_train_upsampled = upsample(features_train, target_train, 4)"
   ]
  },
  {
   "cell_type": "code",
   "execution_count": 38,
   "metadata": {},
   "outputs": [
    {
     "data": {
      "image/png": "[encoded data removed]",
      "text/plain": [
       "<Figure size 360x360 with 1 Axes>"
      ]
     },
     "metadata": {
      "needs_background": "light"
     },
     "output_type": "display_data"
    }
   ],
   "source": [
    "target_train_upsampled.value_counts().plot(kind='bar',grid=True,figsize=(5,5),\n",
    "                           title='Баланс классов целевого признака')\n",
    "plt.xlabel(\"Значение признака\", fontsize=10)\n",
    "plt.yticks(np.arange(0, 6500, 500), fontsize= 10 )\n",
    "plt.ylabel(\"Количество объектов, шт.\", fontsize=10)\n",
    "plt.show()"
   ]
  },
  {
   "cell_type": "markdown",
   "metadata": {},
   "source": [
    "**Дерево решений** с подбором лучшего гиперпараметра Глубина дерева"
   ]
  },
  {
   "cell_type": "code",
   "execution_count": 39,
   "metadata": {},
   "outputs": [
    {
     "name": "stdout",
     "output_type": "stream",
     "text": [
      "F1 наилучшей модели на валидационной выборке: 0.5714\n",
      "Максимальная глубина дерева: 8\n"
     ]
    },
    {
     "data": {
      "text/html": [
       "<div>\n",
       "<style scoped>\n",
       "    .dataframe tbody tr th:only-of-type {\n",
       "        vertical-align: middle;\n",
       "    }\n",
       "\n",
       "    .dataframe tbody tr th {\n",
       "        vertical-align: top;\n",
       "    }\n",
       "\n",
       "    .dataframe thead th {\n",
       "        text-align: right;\n",
       "    }\n",
       "</style>\n",
       "<table border=\"1\" class=\"dataframe\">\n",
       "  <thead>\n",
       "    <tr style=\"text-align: right;\">\n",
       "      <th></th>\n",
       "      <th>max_depth</th>\n",
       "      <th>f1_valid</th>\n",
       "    </tr>\n",
       "  </thead>\n",
       "  <tbody>\n",
       "    <tr>\n",
       "      <td>0</td>\n",
       "      <td>1</td>\n",
       "      <td>0.4662</td>\n",
       "    </tr>\n",
       "    <tr>\n",
       "      <td>1</td>\n",
       "      <td>2</td>\n",
       "      <td>0.4871</td>\n",
       "    </tr>\n",
       "    <tr>\n",
       "      <td>2</td>\n",
       "      <td>3</td>\n",
       "      <td>0.4871</td>\n",
       "    </tr>\n",
       "    <tr>\n",
       "      <td>3</td>\n",
       "      <td>4</td>\n",
       "      <td>0.5458</td>\n",
       "    </tr>\n",
       "    <tr>\n",
       "      <td>4</td>\n",
       "      <td>5</td>\n",
       "      <td>0.5622</td>\n",
       "    </tr>\n",
       "    <tr>\n",
       "      <td>5</td>\n",
       "      <td>6</td>\n",
       "      <td>0.5662</td>\n",
       "    </tr>\n",
       "    <tr>\n",
       "      <td>6</td>\n",
       "      <td>7</td>\n",
       "      <td>0.5606</td>\n",
       "    </tr>\n",
       "    <tr>\n",
       "      <td>7</td>\n",
       "      <td>8</td>\n",
       "      <td>0.5714</td>\n",
       "    </tr>\n",
       "    <tr>\n",
       "      <td>8</td>\n",
       "      <td>9</td>\n",
       "      <td>0.5579</td>\n",
       "    </tr>\n",
       "    <tr>\n",
       "      <td>9</td>\n",
       "      <td>10</td>\n",
       "      <td>0.5358</td>\n",
       "    </tr>\n",
       "  </tbody>\n",
       "</table>\n",
       "</div>"
      ],
      "text/plain": [
       "   max_depth  f1_valid\n",
       "0          1    0.4662\n",
       "1          2    0.4871\n",
       "2          3    0.4871\n",
       "3          4    0.5458\n",
       "4          5    0.5622\n",
       "5          6    0.5662\n",
       "6          7    0.5606\n",
       "7          8    0.5714\n",
       "8          9    0.5579\n",
       "9         10    0.5358"
      ]
     },
     "execution_count": 39,
     "metadata": {},
     "output_type": "execute_result"
    }
   ],
   "source": [
    "train_tree_upsampled = []\n",
    "valid_tree_upsampled = []\n",
    "best_model_tree = None\n",
    "best_result_tree = 0\n",
    "best_depth = 0\n",
    "\n",
    "for depth in range(1, 21, 1):\n",
    "    model_tree = DecisionTreeClassifier(random_state=12345, max_depth=depth)\n",
    "    model_tree.fit(features_train_upsampled, target_train_upsampled)\n",
    "    \n",
    "    predict_train_upsampled = model_tree.predict(features_train)\n",
    "    f1_train_tree = f1_score(target_train, predict_train_upsampled)\n",
    "    train_tree_upsampled.append(f1_train_tree.round(4))\n",
    "    \n",
    "    predicted_valid_upsampled = model_tree.predict(features_valid)\n",
    "    f1_valid_tree = f1_score(target_valid, predicted_valid_upsampled) \n",
    "    valid_tree_upsampled.append(f1_valid_tree.round(4))\n",
    "    \n",
    "    if f1_valid_tree > best_result_tree:\n",
    "        best_model_tree = model_tree\n",
    "        best_result_tree = f1_valid_tree\n",
    "        best_depth = depth\n",
    "          \n",
    "print(\"F1 наилучшей модели на валидационной выборке:\", best_result_tree.round(4))\n",
    "print(\"Максимальная глубина дерева:\", best_depth)\n",
    "\n",
    "f1_tree_upsampled = pd.DataFrame( [train_tree_upsampled, valid_tree_upsampled],columns = range(1,21)).T.reset_index() \n",
    "f1_tree_upsampled.columns = ['max_depth', 'f1_train', 'f1_valid']\n",
    "f1_tree_upsampled[['max_depth','f1_valid']].head(10)"
   ]
  },
  {
   "cell_type": "code",
   "execution_count": 40,
   "metadata": {},
   "outputs": [
    {
     "name": "stdout",
     "output_type": "stream",
     "text": [
      "AUC-ROC модели Дерево решений = 0.8052\n"
     ]
    }
   ],
   "source": [
    "auc_roc(best_model_tree, 'Дерево решений')"
   ]
  },
  {
   "cell_type": "markdown",
   "metadata": {},
   "source": [
    "Модель **`Дерево решений DecisionTreeClassifier() UPSAMPLE`**   \n",
    "**F1 = 0.5714**  при **Глубине дерева = 8**  \n",
    "**AUCK-ROC = 0.8052**. F1 больше и AUC-ROC больше."
   ]
  },
  {
   "cell_type": "markdown",
   "metadata": {},
   "source": [
    "**Случайный лес** с подбором гиперпараметров Глубина дерева и Количество деревьев. "
   ]
  },
  {
   "cell_type": "code",
   "execution_count": 41,
   "metadata": {},
   "outputs": [
    {
     "name": "stdout",
     "output_type": "stream",
     "text": [
      "F1 наилучшей модели на валидационной выборке: 0.6147\n",
      "Количество деревьев: 81 Максимальная глубина: 13\n"
     ]
    }
   ],
   "source": [
    "best_model = None\n",
    "best_result = 0.59\n",
    "best_est = 0\n",
    "best_depth = 0\n",
    "for depth in range (1, 21, 6):\n",
    "    for est in range(1, 101, 10):\n",
    "        model = RandomForestClassifier(random_state= 12345, \n",
    "                                       n_estimators=est, max_depth = depth)\n",
    "        model.fit(features_train_upsampled, target_train_upsampled) \n",
    "        predict_valid_forest_upsampled = model.predict(features_valid) \n",
    "        result = f1_score(target_valid, predict_valid_forest_upsampled)  \n",
    "        if result > best_result:\n",
    "            best_model = model\n",
    "            best_result = result\n",
    "            best_depth = depth\n",
    "            best_est = est\n",
    "        \n",
    "print(\"F1 наилучшей модели на валидационной выборке:\", best_result.round(4)) \n",
    "print(\"Количество деревьев:\", best_est, \"Максимальная глубина:\", best_depth)"
   ]
  },
  {
   "cell_type": "markdown",
   "metadata": {},
   "source": [
    "Глубину подобрали. Диапозон количества деревьев сузим до 76-86, чтобы подобрать точнее."
   ]
  },
  {
   "cell_type": "code",
   "execution_count": 42,
   "metadata": {},
   "outputs": [
    {
     "name": "stdout",
     "output_type": "stream",
     "text": [
      "F1 наилучшей модели на валидационной выборке: 0.6162\n",
      "Количество деревьев: 76\n",
      "Максимальная глубина дерева: 13\n"
     ]
    },
    {
     "data": {
      "text/html": [
       "<div>\n",
       "<style scoped>\n",
       "    .dataframe tbody tr th:only-of-type {\n",
       "        vertical-align: middle;\n",
       "    }\n",
       "\n",
       "    .dataframe tbody tr th {\n",
       "        vertical-align: top;\n",
       "    }\n",
       "\n",
       "    .dataframe thead th {\n",
       "        text-align: right;\n",
       "    }\n",
       "</style>\n",
       "<table border=\"1\" class=\"dataframe\">\n",
       "  <thead>\n",
       "    <tr style=\"text-align: right;\">\n",
       "      <th></th>\n",
       "      <th>n_estimators</th>\n",
       "      <th>f1_valid</th>\n",
       "    </tr>\n",
       "  </thead>\n",
       "  <tbody>\n",
       "    <tr>\n",
       "      <td>0</td>\n",
       "      <td>73</td>\n",
       "      <td>0.6116</td>\n",
       "    </tr>\n",
       "    <tr>\n",
       "      <td>1</td>\n",
       "      <td>74</td>\n",
       "      <td>0.6124</td>\n",
       "    </tr>\n",
       "    <tr>\n",
       "      <td>2</td>\n",
       "      <td>75</td>\n",
       "      <td>0.6143</td>\n",
       "    </tr>\n",
       "    <tr>\n",
       "      <td>3</td>\n",
       "      <td>76</td>\n",
       "      <td>0.6162</td>\n",
       "    </tr>\n",
       "    <tr>\n",
       "      <td>4</td>\n",
       "      <td>77</td>\n",
       "      <td>0.6133</td>\n",
       "    </tr>\n",
       "    <tr>\n",
       "      <td>5</td>\n",
       "      <td>78</td>\n",
       "      <td>0.6162</td>\n",
       "    </tr>\n",
       "    <tr>\n",
       "      <td>6</td>\n",
       "      <td>79</td>\n",
       "      <td>0.6083</td>\n",
       "    </tr>\n",
       "    <tr>\n",
       "      <td>7</td>\n",
       "      <td>80</td>\n",
       "      <td>0.6139</td>\n",
       "    </tr>\n",
       "    <tr>\n",
       "      <td>8</td>\n",
       "      <td>81</td>\n",
       "      <td>0.6147</td>\n",
       "    </tr>\n",
       "    <tr>\n",
       "      <td>9</td>\n",
       "      <td>82</td>\n",
       "      <td>0.6147</td>\n",
       "    </tr>\n",
       "  </tbody>\n",
       "</table>\n",
       "</div>"
      ],
      "text/plain": [
       "   n_estimators  f1_valid\n",
       "0            73    0.6116\n",
       "1            74    0.6124\n",
       "2            75    0.6143\n",
       "3            76    0.6162\n",
       "4            77    0.6133\n",
       "5            78    0.6162\n",
       "6            79    0.6083\n",
       "7            80    0.6139\n",
       "8            81    0.6147\n",
       "9            82    0.6147"
      ]
     },
     "execution_count": 42,
     "metadata": {},
     "output_type": "execute_result"
    }
   ],
   "source": [
    "train_forest_upsampled = []\n",
    "valid_forest_upsampled = []\n",
    "best_result_forest = 0.59\n",
    "best_model_forest = None\n",
    "best_depth = 13\n",
    "best_est = 0\n",
    "\n",
    "for est in range(73, 83):    \n",
    "    model_forest = RandomForestClassifier(random_state=12345, \n",
    "                                          n_estimators=est, max_depth=best_depth)\n",
    "    model_forest.fit(features_train_upsampled, target_train_upsampled)\n",
    "    \n",
    "    predict_train_forest = model_forest.predict(features_train)\n",
    "    f1_train_forest = f1_score(target_train, predict_train_forest)\n",
    "    train_forest_upsampled.append(f1_train_forest.round(4))\n",
    "\n",
    "    predict_valid_forest = model_forest.predict(features_valid)\n",
    "    f1_valid_forest = f1_score(target_valid, predict_valid_forest) \n",
    "    valid_forest_upsampled.append(f1_valid_forest.round(4))\n",
    "    \n",
    "    if f1_valid_forest > best_result_forest:\n",
    "        best_model_forest = model_forest\n",
    "        best_result_forest = f1_valid_forest\n",
    "        best_est = est\n",
    "\n",
    "print(\"F1 наилучшей модели на валидационной выборке:\", best_result_forest.round(4))\n",
    "print(\"Количество деревьев:\", best_est)\n",
    "print(\"Максимальная глубина дерева:\", best_depth)\n",
    "\n",
    "f1_forest_upsampled = pd.DataFrame([train_forest_upsampled, valid_forest_upsampled],\n",
    "                                   columns = range(73, 83)).T.reset_index() \n",
    "f1_forest_upsampled.columns = ['n_estimators', 'f1_train', 'f1_valid']\n",
    "f1_forest_upsampled[['n_estimators','f1_valid']]"
   ]
  },
  {
   "cell_type": "code",
   "execution_count": 43,
   "metadata": {},
   "outputs": [
    {
     "name": "stdout",
     "output_type": "stream",
     "text": [
      "AUC-ROC модели Случайный лес = 0.8519\n"
     ]
    }
   ],
   "source": [
    "auc_roc(best_model_forest, 'Случайный лес')"
   ]
  },
  {
   "cell_type": "markdown",
   "metadata": {},
   "source": [
    "Модель **`Случайный лес RandomForestClassifier() UPSAMPLE`**   \n",
    "**F1 = 0.6162**  при **Глубине дерева = 76**  \n",
    "**AUCK-ROC = 0.8744**. F1 больше, а AUC-ROC меньше.   \n",
    "Значит максимальная метрика F1 - не показктель высокого значения AUC-ROC."
   ]
  },
  {
   "cell_type": "markdown",
   "metadata": {},
   "source": [
    "**Логистическая регрессия**"
   ]
  },
  {
   "cell_type": "code",
   "execution_count": 44,
   "metadata": {},
   "outputs": [
    {
     "name": "stdout",
     "output_type": "stream",
     "text": [
      "F1 модели на валидационной выборке = 0.5\n"
     ]
    }
   ],
   "source": [
    "model_logregress = LogisticRegression(random_state=12345) \n",
    "model_logregress.fit(features_train_upsampled, target_train_upsampled)\n",
    "predictions_valid_logregress_upsampled = model_logregress.predict(features_valid) \n",
    "f1_valid_logregress = f1_score(target_valid, predictions_valid_logregress_upsampled)\n",
    "print('F1 модели на валидационной выборке =', f1_valid_logregress.round(4))"
   ]
  },
  {
   "cell_type": "code",
   "execution_count": 45,
   "metadata": {},
   "outputs": [
    {
     "name": "stdout",
     "output_type": "stream",
     "text": [
      "AUC-ROC модели Логистическая регрессия = 0.7805\n"
     ]
    }
   ],
   "source": [
    "auc_roc(model_logregress, 'Логистическая регрессия')"
   ]
  },
  {
   "cell_type": "markdown",
   "metadata": {},
   "source": [
    "Модель **`Логистическая регрессия LogisticRegression() UPSAMPLE`**   \n",
    "**F1 = 0.5**, **AUC-ROC = 0.7805**. F1 меньше и AUC-ROC меньше."
   ]
  },
  {
   "cell_type": "markdown",
   "metadata": {},
   "source": [
    "**Подводим итог метода UPSAMPLE**\n",
    "\n",
    "model                     | max_depth | n_estimator| F1      | AUC-ROC\n",
    ":------------------------ |:---------:|:----------:|:-------:|: -------:\n",
    "DecisionTreeClassifier()  | 8         | -          | 0.5714  | 0.8052\n",
    "RandomForestClassifier()  |13         | 76         | 0.6162  | 0.8519\n",
    "LogisticRegression()      | -         | -          | 0.5000  | 0.7805  \n",
    "  \n",
    "**Значение лучшей метрики F1 у модели Случайный лес** И она выше указанного значения в 0.59.  \n",
    "**Лучшее значение AUC-ROC тоже у этой модели.**"
   ]
  },
  {
   "cell_type": "markdown",
   "metadata": {},
   "source": [
    "### Downsample"
   ]
  },
  {
   "cell_type": "markdown",
   "metadata": {},
   "source": [
    "Сбалансируем классы и уменьшим в обучающей выборке количество клиентов оттока (target==0)"
   ]
  },
  {
   "cell_type": "code",
   "execution_count": 46,
   "metadata": {},
   "outputs": [],
   "source": [
    "def downsample(features, target, fraction):\n",
    "    features_zeros = features[target == 0]\n",
    "    features_ones = features[target == 1]\n",
    "    target_zeros = target[target == 0]\n",
    "    target_ones = target[target == 1]\n",
    "    features_downsampled = pd.concat(\n",
    "        [features_zeros.sample(frac=fraction, random_state=12345)] + [features_ones]) \n",
    "    target_downsampled = pd.concat(\n",
    "        [target_zeros.sample(frac=fraction, random_state=12345)] + [target_ones]) \n",
    "    features_downsampled, target_downsampled = shuffle(features_downsampled, target_downsampled, \n",
    "                                                       random_state=12345)\n",
    "    return features_downsampled, target_downsampled\n",
    "\n",
    "features_train_downsampled, target_train_downsampled = downsample(features_train, target_train, 0.25)"
   ]
  },
  {
   "cell_type": "code",
   "execution_count": 47,
   "metadata": {},
   "outputs": [
    {
     "data": {
      "image/png": "[encoded data removed]",
      "text/plain": [
       "<Figure size 360x360 with 1 Axes>"
      ]
     },
     "metadata": {
      "needs_background": "light"
     },
     "output_type": "display_data"
    }
   ],
   "source": [
    "target_train_downsampled.value_counts().plot(kind='bar',grid=True,figsize=(5,5),\n",
    "                           title='Баланс классов целевого признака')\n",
    "plt.xlabel(\"Значение признака\", fontsize=10)\n",
    "plt.yticks(np.arange(0, 1700, 250), fontsize= 10 )\n",
    "plt.ylabel(\"Количество объектов, шт.\", fontsize=10)\n",
    "plt.show()"
   ]
  },
  {
   "cell_type": "markdown",
   "metadata": {},
   "source": [
    "**Дерево решений** с подбором лучшего гиперпараметра Глубина дерева"
   ]
  },
  {
   "cell_type": "code",
   "execution_count": 48,
   "metadata": {},
   "outputs": [
    {
     "name": "stdout",
     "output_type": "stream",
     "text": [
      "F1 наилучшей модели на валидационной выборке: 0.5576\n",
      "Максимальная глубина дерева: 6\n"
     ]
    },
    {
     "data": {
      "text/html": [
       "<div>\n",
       "<style scoped>\n",
       "    .dataframe tbody tr th:only-of-type {\n",
       "        vertical-align: middle;\n",
       "    }\n",
       "\n",
       "    .dataframe tbody tr th {\n",
       "        vertical-align: top;\n",
       "    }\n",
       "\n",
       "    .dataframe thead th {\n",
       "        text-align: right;\n",
       "    }\n",
       "</style>\n",
       "<table border=\"1\" class=\"dataframe\">\n",
       "  <thead>\n",
       "    <tr style=\"text-align: right;\">\n",
       "      <th></th>\n",
       "      <th>max_depth</th>\n",
       "      <th>f1_valid</th>\n",
       "    </tr>\n",
       "  </thead>\n",
       "  <tbody>\n",
       "    <tr>\n",
       "      <td>0</td>\n",
       "      <td>1</td>\n",
       "      <td>0.4662</td>\n",
       "    </tr>\n",
       "    <tr>\n",
       "      <td>1</td>\n",
       "      <td>2</td>\n",
       "      <td>0.4871</td>\n",
       "    </tr>\n",
       "    <tr>\n",
       "      <td>2</td>\n",
       "      <td>3</td>\n",
       "      <td>0.4871</td>\n",
       "    </tr>\n",
       "    <tr>\n",
       "      <td>3</td>\n",
       "      <td>4</td>\n",
       "      <td>0.5472</td>\n",
       "    </tr>\n",
       "    <tr>\n",
       "      <td>4</td>\n",
       "      <td>5</td>\n",
       "      <td>0.5537</td>\n",
       "    </tr>\n",
       "    <tr>\n",
       "      <td>5</td>\n",
       "      <td>6</td>\n",
       "      <td>0.5576</td>\n",
       "    </tr>\n",
       "    <tr>\n",
       "      <td>6</td>\n",
       "      <td>7</td>\n",
       "      <td>0.5491</td>\n",
       "    </tr>\n",
       "    <tr>\n",
       "      <td>7</td>\n",
       "      <td>8</td>\n",
       "      <td>0.5322</td>\n",
       "    </tr>\n",
       "    <tr>\n",
       "      <td>8</td>\n",
       "      <td>9</td>\n",
       "      <td>0.5226</td>\n",
       "    </tr>\n",
       "    <tr>\n",
       "      <td>9</td>\n",
       "      <td>10</td>\n",
       "      <td>0.5145</td>\n",
       "    </tr>\n",
       "  </tbody>\n",
       "</table>\n",
       "</div>"
      ],
      "text/plain": [
       "   max_depth  f1_valid\n",
       "0          1    0.4662\n",
       "1          2    0.4871\n",
       "2          3    0.4871\n",
       "3          4    0.5472\n",
       "4          5    0.5537\n",
       "5          6    0.5576\n",
       "6          7    0.5491\n",
       "7          8    0.5322\n",
       "8          9    0.5226\n",
       "9         10    0.5145"
      ]
     },
     "execution_count": 48,
     "metadata": {},
     "output_type": "execute_result"
    }
   ],
   "source": [
    "train_tree_downsampled = []\n",
    "valid_tree_downsampled = []\n",
    "best_model_tree = None\n",
    "best_result_tree = 0\n",
    "best_depth = 0\n",
    "\n",
    "for depth in range(1, 21, 1):\n",
    "    model_tree = DecisionTreeClassifier(random_state=12345, max_depth=depth)\n",
    "    model_tree.fit(features_train_downsampled, target_train_downsampled)\n",
    "    \n",
    "    predict_train_tree_downsampled = model_tree.predict(features_train)\n",
    "    f1_train_tree = f1_score(target_train, predict_train_tree_downsampled)\n",
    "    train_tree_downsampled.append(f1_train_tree.round(4))\n",
    "    \n",
    "    predicted_valid_downsampled = model_tree.predict(features_valid)\n",
    "    f1_valid_tree = f1_score(target_valid, predicted_valid_downsampled) \n",
    "    valid_tree_downsampled.append(f1_valid_tree.round(4))\n",
    "    \n",
    "    if f1_valid_tree > best_result_tree:\n",
    "        best_model_tree = model_tree\n",
    "        best_result_tree = f1_valid_tree\n",
    "        best_depth = depth\n",
    "          \n",
    "print(\"F1 наилучшей модели на валидационной выборке:\", best_result_tree.round(4))\n",
    "print(\"Максимальная глубина дерева:\", best_depth)\n",
    "\n",
    "f1_tree_downsampled = pd.DataFrame( [train_tree_downsampled, valid_tree_downsampled],\n",
    "                                   columns = range(1,21)).T.reset_index() \n",
    "f1_tree_downsampled.columns = ['max_depth', 'f1_train', 'f1_valid']\n",
    "f1_tree_downsampled[['max_depth','f1_valid']].head(10)"
   ]
  },
  {
   "cell_type": "code",
   "execution_count": 49,
   "metadata": {},
   "outputs": [
    {
     "name": "stdout",
     "output_type": "stream",
     "text": [
      "AUC-ROC модели Дерево решений = 0.8265\n"
     ]
    }
   ],
   "source": [
    "auc_roc(best_model_tree, 'Дерево решений')"
   ]
  },
  {
   "cell_type": "markdown",
   "metadata": {},
   "source": [
    "Модель **`Дерево решений DecisionTreeClassifier DOWNSAMPLE `**   \n",
    "**F1 = 0.6107**  при **Глубине дерева = 6** , **AUC-ROC = 0.7145**.  \n",
    "F1 больше и AUC-ROC больше."
   ]
  },
  {
   "cell_type": "markdown",
   "metadata": {},
   "source": [
    "**Случайный лес** с подбором гиперпараметров Глубина дерева и Количество деревьев."
   ]
  },
  {
   "cell_type": "code",
   "execution_count": 50,
   "metadata": {},
   "outputs": [
    {
     "name": "stdout",
     "output_type": "stream",
     "text": [
      "F1 наилучшей модели на валидационной выборке: 0.6046\n",
      "Количество деревьев: 71 , Максимальная глубина: 10\n"
     ]
    }
   ],
   "source": [
    "best_model = None\n",
    "best_result = 0.59\n",
    "best_est = 0\n",
    "best_depth = 0\n",
    "for depth in range (1, 21):\n",
    "    for est in range(1,101,10):\n",
    "        model = RandomForestClassifier(random_state= 12345, \n",
    "                                       n_estimators=est, max_depth = depth)\n",
    "        model.fit(features_train_downsampled, target_train_downsampled) \n",
    "        predict_valid_forest = model.predict(features_valid) \n",
    "        result = f1_score(target_valid, predict_valid_forest)  \n",
    "        if result > best_result:\n",
    "            best_model = model\n",
    "            best_result = result\n",
    "            best_depth = depth\n",
    "            best_est = est\n",
    "        \n",
    "print(\"F1 наилучшей модели на валидационной выборке:\", best_result.round(4)) \n",
    "print(\"Количество деревьев:\", best_est, \", Максимальная глубина:\", best_depth)"
   ]
  },
  {
   "cell_type": "markdown",
   "metadata": {},
   "source": [
    "Глубину подобрали. Диапозон количества деревьев сузим и возьмем 63-73, чтобы подобрать точнее."
   ]
  },
  {
   "cell_type": "code",
   "execution_count": 56,
   "metadata": {},
   "outputs": [
    {
     "name": "stdout",
     "output_type": "stream",
     "text": [
      "F1 наилучшей модели на валидационной выборке: 0.6074\n",
      "Количество деревьев: 66\n",
      "Максимальная глубина дерева: 10\n"
     ]
    },
    {
     "data": {
      "text/html": [
       "<div>\n",
       "<style scoped>\n",
       "    .dataframe tbody tr th:only-of-type {\n",
       "        vertical-align: middle;\n",
       "    }\n",
       "\n",
       "    .dataframe tbody tr th {\n",
       "        vertical-align: top;\n",
       "    }\n",
       "\n",
       "    .dataframe thead th {\n",
       "        text-align: right;\n",
       "    }\n",
       "</style>\n",
       "<table border=\"1\" class=\"dataframe\">\n",
       "  <thead>\n",
       "    <tr style=\"text-align: right;\">\n",
       "      <th></th>\n",
       "      <th>n_estimators</th>\n",
       "      <th>f1_valid</th>\n",
       "    </tr>\n",
       "  </thead>\n",
       "  <tbody>\n",
       "    <tr>\n",
       "      <td>0</td>\n",
       "      <td>63</td>\n",
       "      <td>0.6002</td>\n",
       "    </tr>\n",
       "    <tr>\n",
       "      <td>1</td>\n",
       "      <td>64</td>\n",
       "      <td>0.6037</td>\n",
       "    </tr>\n",
       "    <tr>\n",
       "      <td>2</td>\n",
       "      <td>65</td>\n",
       "      <td>0.6009</td>\n",
       "    </tr>\n",
       "    <tr>\n",
       "      <td>3</td>\n",
       "      <td>66</td>\n",
       "      <td>0.6074</td>\n",
       "    </tr>\n",
       "    <tr>\n",
       "      <td>4</td>\n",
       "      <td>67</td>\n",
       "      <td>0.6002</td>\n",
       "    </tr>\n",
       "    <tr>\n",
       "      <td>5</td>\n",
       "      <td>68</td>\n",
       "      <td>0.6037</td>\n",
       "    </tr>\n",
       "    <tr>\n",
       "      <td>6</td>\n",
       "      <td>69</td>\n",
       "      <td>0.6017</td>\n",
       "    </tr>\n",
       "    <tr>\n",
       "      <td>7</td>\n",
       "      <td>70</td>\n",
       "      <td>0.5998</td>\n",
       "    </tr>\n",
       "    <tr>\n",
       "      <td>8</td>\n",
       "      <td>71</td>\n",
       "      <td>0.6046</td>\n",
       "    </tr>\n",
       "    <tr>\n",
       "      <td>9</td>\n",
       "      <td>72</td>\n",
       "      <td>0.5985</td>\n",
       "    </tr>\n",
       "  </tbody>\n",
       "</table>\n",
       "</div>"
      ],
      "text/plain": [
       "   n_estimators  f1_valid\n",
       "0            63    0.6002\n",
       "1            64    0.6037\n",
       "2            65    0.6009\n",
       "3            66    0.6074\n",
       "4            67    0.6002\n",
       "5            68    0.6037\n",
       "6            69    0.6017\n",
       "7            70    0.5998\n",
       "8            71    0.6046\n",
       "9            72    0.5985"
      ]
     },
     "execution_count": 56,
     "metadata": {},
     "output_type": "execute_result"
    }
   ],
   "source": [
    "train_forest_downsampled = []\n",
    "valid_forest_downsampled = []\n",
    "best_result_forest = 0.59\n",
    "best_model_forest = None\n",
    "best_depth = 10\n",
    "best_est = 0\n",
    "\n",
    "for est in range(63, 73):\n",
    "    \n",
    "    model_forest = RandomForestClassifier(random_state=12345, \n",
    "                                          n_estimators=est, max_depth=best_depth)\n",
    "    model_forest.fit(features_train_downsampled, target_train_downsampled)\n",
    "    \n",
    "    predict_train_forest = model_forest.predict(features_train)\n",
    "    f1_train_forest = f1_score(target_train, predict_train_forest)\n",
    "    train_forest_downsampled.append(f1_train_forest.round(4))\n",
    "\n",
    "    predict_valid_forest = model_forest.predict(features_valid)\n",
    "    f1_valid_forest = f1_score(target_valid, predict_valid_forest) \n",
    "    valid_forest_downsampled.append(f1_valid_forest.round(4))\n",
    "    \n",
    "    if f1_valid_forest > best_result_forest:\n",
    "        best_model_forest = model_forest\n",
    "        best_result_forest = f1_valid_forest\n",
    "        best_est = est\n",
    "\n",
    "print(\"F1 наилучшей модели на валидационной выборке:\", best_result_forest.round(4))\n",
    "print(\"Количество деревьев:\", best_est)\n",
    "print(\"Максимальная глубина дерева:\", best_depth)\n",
    "\n",
    "f1_forest_downsampled = pd.DataFrame([train_forest_downsampled, valid_forest_downsampled],\n",
    "                                     columns = range(63, 73)).T.reset_index()\n",
    "f1_forest_downsampled.columns = ['n_estimators', 'f1_train', 'f1_valid']\n",
    "f1_forest_downsampled[['n_estimators','f1_valid']]"
   ]
  },
  {
   "cell_type": "code",
   "execution_count": 57,
   "metadata": {},
   "outputs": [
    {
     "name": "stdout",
     "output_type": "stream",
     "text": [
      "AUC-ROC модели Случайный лес = 0.8629\n"
     ]
    }
   ],
   "source": [
    "auc_roc(best_model_forest, 'Случайный лес')"
   ]
  },
  {
   "cell_type": "markdown",
   "metadata": {},
   "source": [
    "Модель **`Случайный лес  RandomForestClassifier DOWNSAMPLE`**   \n",
    "**F1 = 0.6349** при  **Количестве деревьев = *24* и **Максимальнойая глубине дерева = 8**  \n",
    "**AUC-ROC = 0.8758**. F1 больше и AUC-ROC больше, причём последнее самое большое из всех.\n"
   ]
  },
  {
   "cell_type": "markdown",
   "metadata": {},
   "source": [
    "**Логистическая регрессия**"
   ]
  },
  {
   "cell_type": "code",
   "execution_count": 58,
   "metadata": {},
   "outputs": [
    {
     "name": "stdout",
     "output_type": "stream",
     "text": [
      "F1 модели на валидационной выборке = 0.5005\n"
     ]
    }
   ],
   "source": [
    "model_logregress = LogisticRegression(random_state=12345) \n",
    "model_logregress.fit(features_train_downsampled, target_train_downsampled)\n",
    "predictions_valid_logregress = model_logregress.predict(features_valid) \n",
    "f1_valid_logregress = f1_score(target_valid, predictions_valid_logregress)\n",
    "print('F1 модели на валидационной выборке =', f1_valid_logregress.round(4))"
   ]
  },
  {
   "cell_type": "code",
   "execution_count": 59,
   "metadata": {},
   "outputs": [
    {
     "name": "stdout",
     "output_type": "stream",
     "text": [
      "AUC-ROC модели Логистическая регрессия = 0.7811\n"
     ]
    }
   ],
   "source": [
    "auc_roc(model_logregress, 'Логистическая регрессия')"
   ]
  },
  {
   "cell_type": "markdown",
   "metadata": {},
   "source": [
    "Модель **`Логистическая регрессия LogisticRegression() DOWNSAMPLE`**   \n",
    "**F1 = 0.5169**, **AUC-ROC = 0.7948**. F1 меньше и AUC-ROC меньше."
   ]
  },
  {
   "cell_type": "markdown",
   "metadata": {},
   "source": [
    "**Подводим итог метода DOWNSAMPLE**\n",
    "\n",
    "model                     | max_depth | n_estimator| F1      | AUC-ROC\n",
    ":------------------------ |:---------:|:----------:|:-------:|: -------:\n",
    "DecisionTreeClassifier()  | 6         | -          | 0.5576  | 0.8027\n",
    "RandomForestClassifier()  | 10        | 66         | 0.6074  | 0.8606\n",
    "LogisticRegression()      | -         | -          | 0.5005  | 0.7811\n",
    "\n",
    "Значение лучшей метрики F1 у модели Случайный лес, у неё же лучшая метрика AUC-ROC**"
   ]
  },
  {
   "cell_type": "markdown",
   "metadata": {},
   "source": [
    "### Вывод"
   ]
  },
  {
   "cell_type": "markdown",
   "metadata": {},
   "source": [
    "Проверили 3 метода балансировки классов для всех основных моделей.   \n",
    "\n",
    "Для теста выбираем модель с балансировкой веса классов.   \n",
    "**\"`Случайный лес`\"** с параметром **class_weight = 'balanced'** и гиперпараметрами **max_depth = 8**, **n_estimators = 51**. \n",
    "У неё обе метрики на подходящем уровне и в балансе, F1 больше обозначенных в задании 0.59, а уровень AUC-ROC стремится к максимальному из всех моделей.   \n",
    "Поэтому данную модель выбираем для тестирования.  "
   ]
  },
  {
   "cell_type": "markdown",
   "metadata": {},
   "source": [
    "## Тестирование модели"
   ]
  },
  {
   "cell_type": "markdown",
   "metadata": {},
   "source": [
    "Объединим обучающую и валидационную выборки в одну большую обучающую, чтобы не терять 15% данных."
   ]
  },
  {
   "cell_type": "code",
   "execution_count": 61,
   "metadata": {},
   "outputs": [
    {
     "name": "stdout",
     "output_type": "stream",
     "text": [
      "Процентое соотношение features_train_big от исходных данных: 80.0 %\n"
     ]
    }
   ],
   "source": [
    "features_train_big = pd.concat([features_train,features_valid])\n",
    "target_train_big = pd.concat([target_train, target_valid]) \n",
    "percent_ratio(features_train_big,'features_train_big')"
   ]
  },
  {
   "cell_type": "markdown",
   "metadata": {},
   "source": [
    "Все выборки были уже масштабированы, поэтому здесь манипуляций не производим.   \n"
   ]
  },
  {
   "cell_type": "markdown",
   "metadata": {},
   "source": [
    "Применим метод балансировки классов `class_weight = 'balanced'`, показавший подходящие  метрикуи и прогоняем лучшую модель `RandomForestClassifier()` с этим методом в параметре на тестовой выборке."
   ]
  },
  {
   "cell_type": "code",
   "execution_count": 62,
   "metadata": {},
   "outputs": [
    {
     "name": "stdout",
     "output_type": "stream",
     "text": [
      "F1 модели на тестовой выборке: 0.6196\n",
      "AUC-ROC модели 0.8706\n"
     ]
    }
   ],
   "source": [
    "model = RandomForestClassifier(class_weight='balanced', random_state= 12345, \n",
    "                                       n_estimators=51, max_depth =8)\n",
    "model.fit(features_train_big, target_train_big) \n",
    "predict_test_forest = model.predict(features_test) \n",
    "result = f1_score(target_test, predict_test_forest)\n",
    "probabilities_test = model.predict_proba(features_test)\n",
    "probabilities_one_test = probabilities_test[:, 1]\n",
    "auc_roc = roc_auc_score(target_test, probabilities_one_test) \n",
    "print(\"F1 модели на тестовой выборке:\", result.round(4)) \n",
    "print('AUC-ROC модели', auc_roc.round(4))"
   ]
  },
  {
   "cell_type": "markdown",
   "metadata": {},
   "source": [
    "### Вывод"
   ]
  },
  {
   "cell_type": "markdown",
   "metadata": {},
   "source": [
    "Исследовали подходящую модель на тестовой выборке.  \n",
    "Метрика **F1** выше значения, поставленного в задаче в 0.59 и составляет **0.6196**  \n",
    "**AUC-ROC** составляет **0.8706**. Считаем, что с поставленной задачей справились!\n",
    "\n"
   ]
  },
  {
   "cell_type": "markdown",
   "metadata": {},
   "source": [
    "## Общий вывод"
   ]
  },
  {
   "cell_type": "markdown",
   "metadata": {},
   "source": [
    "Исходный массив данных, описывающий состояние и поведениех клентов банка предобработали, заполнив пропуски, и убрав некоторые незначительные для моделей классификации признаки.\n",
    "Преобразовали категориальные признаки в численные и масштабировали признаки с помощью стандартизации данных, чтобы модели равнозначно учитывали все признаки.\n",
    "Извлекли целевой признак, определяющий уйдет клиент или останется, и признаки на основе которых делаем прогноз останется ли клиент с банком или уйдет.  \n",
    "Проверили признаки на корреляцию, чтобы не перегружать перпективные модели.\n",
    "Разделили данные на 3 выборки в пропорции 60:20:20, на которых обучаем, проверяем и тестируем перспективные модели оттока клиентов. Выявили дисбаланс целевого признака в  исходящем массиве, который учитываем в дальнейшем при работе с моделями.\n",
    "Исследовали три модели классификации на несбалансированных данных и 3х методах балансировки. Получили лучшие метрики качества для определения останется клиент с банком или уйдет.   \n",
    "Самой подходящей из всех 12 исследуемых моделей  выбрали Случайный лес (RandomForestClassifier) с гиперпараметрами глубина дерева (max_depth) = 8 и количеством деревьев (n_estimators) = 51  с методом балансировки классов, используя параметр модели class_weight = 'balanced'. У неё не самые высокие значения F1 и AUC-ROC, вторые в обеих метриках, при этом самые стабильные (не граничащие с критическими значениями)  \n",
    "Протестировали выбранную модель на тестовой выборке, предварительно обучив на большой объединённой обучающей и валидационной выборке, и получили качество прогноза положительного класса  F1 = 0.6196, что на 5% выше обозначенного допустимого порогового значения.  \n",
    "Функционал качества модели AUC-ROC получился 0.8706."
   ]
  },
  {
   "cell_type": "code",
   "execution_count": null,
   "metadata": {},
   "outputs": [],
   "source": []
  }
 ],
 "metadata": {
  "kernelspec": {
   "display_name": "Python 3",
   "language": "python",
   "name": "python3"
  },
  "language_info": {
   "codemirror_mode": {
    "name": "ipython",
    "version": 3
   },
   "file_extension": ".py",
   "mimetype": "text/x-python",
   "name": "python",
   "nbconvert_exporter": "python",
   "pygments_lexer": "ipython3",
   "version": "3.7.10"
  },
  "toc": {
   "base_numbering": 1,
   "nav_menu": {},
   "number_sections": true,
   "sideBar": true,
   "skip_h1_title": true,
   "title_cell": "Содержание",
   "title_sidebar": "Contents",
   "toc_cell": true,
   "toc_position": {
    "height": "calc(100% - 180px)",
    "left": "10px",
    "top": "150px",
    "width": "229.625px"
   },
   "toc_section_display": true,
   "toc_window_display": true
  }
 },
 "nbformat": 4,
 "nbformat_minor": 2
}
