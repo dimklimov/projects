{
 "cells": [
  {
   "cell_type": "markdown",
   "metadata": {},
   "source": [
    "# Проект классификации комментариев на токсичность NLP"
   ]
  },
  {
   "cell_type": "markdown",
   "metadata": {},
   "source": [
    "Интернет-магазин запускает новый сервис. Пользователи могут редактировать и дополнять описания товаров, как в вики-сообществах. То есть клиенты предлагают свои правки и комментируют изменения других. Магазину нужен инструмент, который будет искать токсичные комментарии и отправлять их на модерацию. \n",
    "\n",
    "Обучиим модели для классификации комментариев на позитивные и негативные.   \n",
    "В вашем распоряжении набор данных с разметкой о токсичности правок.\n",
    "\n",
    "Необходимо построить модель со значением метрики качества *F1* не меньше 0.75. \n",
    "\n",
    "**Инструкция по выполнению проекта**\n",
    "\n",
    "1. Загрузите и подготовьте данные.\n",
    "2. Обучите разные модели. \n",
    "3. Сделайте выводы.\n",
    "\n",
    "**Описание данных**\n",
    "\n",
    "Данные находятся в файле `toxic_comments.csv`.\n",
    "\n",
    "Столбец *text* в нём содержит текст комментария, а *toxic* — целевой признак."
   ]
  },
  {
   "cell_type": "markdown",
   "metadata": {},
   "source": [
    "## Подготовка"
   ]
  },
  {
   "cell_type": "code",
   "execution_count": 1,
   "metadata": {},
   "outputs": [
    {
     "name": "stdout",
     "output_type": "stream",
     "text": [
      "Requirement already satisfied: nltk in /opt/conda/lib/python3.9/site-packages (3.6.1)\n",
      "Requirement already satisfied: regex in /opt/conda/lib/python3.9/site-packages (from nltk) (2022.8.17)\n",
      "Requirement already satisfied: tqdm in /opt/conda/lib/python3.9/site-packages (from nltk) (4.61.2)\n",
      "Requirement already satisfied: joblib in /opt/conda/lib/python3.9/site-packages (from nltk) (1.1.0)\n",
      "Requirement already satisfied: click in /opt/conda/lib/python3.9/site-packages (from nltk) (8.1.3)\n"
     ]
    },
    {
     "name": "stderr",
     "output_type": "stream",
     "text": [
      "[nltk_data] Downloading package stopwords to /home/jovyan/nltk_data...\n",
      "[nltk_data]   Package stopwords is already up-to-date!\n",
      "[nltk_data] Downloading package punkt to /home/jovyan/nltk_data...\n",
      "[nltk_data]   Package punkt is already up-to-date!\n",
      "[nltk_data] Downloading package wordnet to /home/jovyan/nltk_data...\n",
      "[nltk_data]   Package wordnet is already up-to-date!\n",
      "[nltk_data] Downloading package averaged_perceptron_tagger to\n",
      "[nltk_data]     /home/jovyan/nltk_data...\n",
      "[nltk_data]   Package averaged_perceptron_tagger is already up-to-\n",
      "[nltk_data]       date!\n"
     ]
    }
   ],
   "source": [
    "!pip install nltk\n",
    "\n",
    "import pandas as pd\n",
    "import numpy as np\n",
    "import matplotlib.pyplot as plt\n",
    "import re\n",
    "import nltk\n",
    "from nltk.corpus import wordnet\n",
    "from nltk.corpus import stopwords\n",
    "from nltk.stem import WordNetLemmatizer\n",
    "nltk.download('stopwords')\n",
    "nltk.download('punkt')\n",
    "nltk.download('wordnet')\n",
    "nltk.download('averaged_perceptron_tagger')\n",
    "from pymystem3 import Mystem\n",
    "from sklearn.model_selection import train_test_split, cross_val_score, GridSearchCV\n",
    "from sklearn.linear_model import LogisticRegression\n",
    "import lightgbm as lgb\n",
    "from sklearn.metrics import f1_score\n",
    "from sklearn.feature_extraction.text import TfidfVectorizer\n",
    "from sklearn import metrics"
   ]
  },
  {
   "cell_type": "code",
   "execution_count": 2,
   "metadata": {},
   "outputs": [],
   "source": [
    "try: \n",
    "    data = pd.read_csv(\"toxic_comments.csv\")\n",
    "except:\n",
    "    data = pd.read_csv('https://code.s3.yandex.net/datasets/toxic_comments.csv')"
   ]
  },
  {
   "cell_type": "code",
   "execution_count": 3,
   "metadata": {},
   "outputs": [
    {
     "name": "stdout",
     "output_type": "stream",
     "text": [
      "\n",
      "\u001b[1mdata\u001b[0m\n"
     ]
    },
    {
     "data": {
      "text/html": [
       "<div>\n",
       "<style scoped>\n",
       "    .dataframe tbody tr th:only-of-type {\n",
       "        vertical-align: middle;\n",
       "    }\n",
       "\n",
       "    .dataframe tbody tr th {\n",
       "        vertical-align: top;\n",
       "    }\n",
       "\n",
       "    .dataframe thead th {\n",
       "        text-align: right;\n",
       "    }\n",
       "</style>\n",
       "<table border=\"1\" class=\"dataframe\">\n",
       "  <thead>\n",
       "    <tr style=\"text-align: right;\">\n",
       "      <th></th>\n",
       "      <th>Unnamed: 0</th>\n",
       "      <th>text</th>\n",
       "      <th>toxic</th>\n",
       "    </tr>\n",
       "  </thead>\n",
       "  <tbody>\n",
       "    <tr>\n",
       "      <th>0</th>\n",
       "      <td>0</td>\n",
       "      <td>Explanation\\nWhy the edits made under my usern...</td>\n",
       "      <td>0</td>\n",
       "    </tr>\n",
       "    <tr>\n",
       "      <th>1</th>\n",
       "      <td>1</td>\n",
       "      <td>D'aww! He matches this background colour I'm s...</td>\n",
       "      <td>0</td>\n",
       "    </tr>\n",
       "    <tr>\n",
       "      <th>2</th>\n",
       "      <td>2</td>\n",
       "      <td>Hey man, I'm really not trying to edit war. It...</td>\n",
       "      <td>0</td>\n",
       "    </tr>\n",
       "    <tr>\n",
       "      <th>3</th>\n",
       "      <td>3</td>\n",
       "      <td>\"\\nMore\\nI can't make any real suggestions on ...</td>\n",
       "      <td>0</td>\n",
       "    </tr>\n",
       "    <tr>\n",
       "      <th>4</th>\n",
       "      <td>4</td>\n",
       "      <td>You, sir, are my hero. Any chance you remember...</td>\n",
       "      <td>0</td>\n",
       "    </tr>\n",
       "  </tbody>\n",
       "</table>\n",
       "</div>"
      ],
      "text/plain": [
       "   Unnamed: 0                                               text  toxic\n",
       "0           0  Explanation\\nWhy the edits made under my usern...      0\n",
       "1           1  D'aww! He matches this background colour I'm s...      0\n",
       "2           2  Hey man, I'm really not trying to edit war. It...      0\n",
       "3           3  \"\\nMore\\nI can't make any real suggestions on ...      0\n",
       "4           4  You, sir, are my hero. Any chance you remember...      0"
      ]
     },
     "metadata": {},
     "output_type": "display_data"
    },
    {
     "name": "stdout",
     "output_type": "stream",
     "text": [
      "\n",
      "Размер данных data\n"
     ]
    },
    {
     "data": {
      "text/plain": [
       "(159292, 3)"
      ]
     },
     "metadata": {},
     "output_type": "display_data"
    },
    {
     "name": "stdout",
     "output_type": "stream",
     "text": [
      "\n",
      "Общая информация о data\n",
      "\n",
      "<class 'pandas.core.frame.DataFrame'>\n",
      "RangeIndex: 159292 entries, 0 to 159291\n",
      "Data columns (total 3 columns):\n",
      " #   Column      Non-Null Count   Dtype \n",
      "---  ------      --------------   ----- \n",
      " 0   Unnamed: 0  159292 non-null  int64 \n",
      " 1   text        159292 non-null  object\n",
      " 2   toxic       159292 non-null  int64 \n",
      "dtypes: int64(2), object(1)\n",
      "memory usage: 3.6+ MB\n"
     ]
    },
    {
     "data": {
      "text/plain": [
       "None"
      ]
     },
     "metadata": {},
     "output_type": "display_data"
    },
    {
     "name": "stdout",
     "output_type": "stream",
     "text": [
      "Пропуски в data\n"
     ]
    },
    {
     "data": {
      "text/html": [
       "<div>\n",
       "<style scoped>\n",
       "    .dataframe tbody tr th:only-of-type {\n",
       "        vertical-align: middle;\n",
       "    }\n",
       "\n",
       "    .dataframe tbody tr th {\n",
       "        vertical-align: top;\n",
       "    }\n",
       "\n",
       "    .dataframe thead th {\n",
       "        text-align: right;\n",
       "    }\n",
       "</style>\n",
       "<table border=\"1\" class=\"dataframe\">\n",
       "  <thead>\n",
       "    <tr style=\"text-align: right;\">\n",
       "      <th></th>\n",
       "      <th>missing_values</th>\n",
       "      <th>% of total</th>\n",
       "    </tr>\n",
       "  </thead>\n",
       "  <tbody>\n",
       "    <tr>\n",
       "      <th>Unnamed: 0</th>\n",
       "      <td>0</td>\n",
       "      <td>0.0</td>\n",
       "    </tr>\n",
       "    <tr>\n",
       "      <th>text</th>\n",
       "      <td>0</td>\n",
       "      <td>0.0</td>\n",
       "    </tr>\n",
       "    <tr>\n",
       "      <th>toxic</th>\n",
       "      <td>0</td>\n",
       "      <td>0.0</td>\n",
       "    </tr>\n",
       "  </tbody>\n",
       "</table>\n",
       "</div>"
      ],
      "text/plain": [
       "            missing_values  % of total\n",
       "Unnamed: 0               0         0.0\n",
       "text                     0         0.0\n",
       "toxic                    0         0.0"
      ]
     },
     "metadata": {},
     "output_type": "display_data"
    },
    {
     "name": "stdout",
     "output_type": "stream",
     "text": [
      "\n",
      "Полных дубликатов в data 0\n",
      "\n",
      "Баланс классов в data\n"
     ]
    },
    {
     "data": {
      "text/html": [
       "<div>\n",
       "<style scoped>\n",
       "    .dataframe tbody tr th:only-of-type {\n",
       "        vertical-align: middle;\n",
       "    }\n",
       "\n",
       "    .dataframe tbody tr th {\n",
       "        vertical-align: top;\n",
       "    }\n",
       "\n",
       "    .dataframe thead th {\n",
       "        text-align: right;\n",
       "    }\n",
       "</style>\n",
       "<table border=\"1\" class=\"dataframe\">\n",
       "  <thead>\n",
       "    <tr style=\"text-align: right;\">\n",
       "      <th></th>\n",
       "      <th>class_count</th>\n",
       "      <th>% of total</th>\n",
       "    </tr>\n",
       "  </thead>\n",
       "  <tbody>\n",
       "    <tr>\n",
       "      <th>0</th>\n",
       "      <td>143106</td>\n",
       "      <td>89.84</td>\n",
       "    </tr>\n",
       "    <tr>\n",
       "      <th>1</th>\n",
       "      <td>16186</td>\n",
       "      <td>10.16</td>\n",
       "    </tr>\n",
       "  </tbody>\n",
       "</table>\n",
       "</div>"
      ],
      "text/plain": [
       "   class_count  % of total\n",
       "0       143106       89.84\n",
       "1        16186       10.16"
      ]
     },
     "metadata": {},
     "output_type": "display_data"
    }
   ],
   "source": [
    "def df_info(df, title):\n",
    "    print()\n",
    "    print('\\033[1m' + ''.join(title) +'\\033[0m')\n",
    "    display(df.head(5))\n",
    "    print()\n",
    "    print('Размер данных', title)\n",
    "    display(df.shape)    \n",
    "    print()    \n",
    "    print('Общая информация о', title) \n",
    "    print()\n",
    "    display(df.info())\n",
    "    print('Пропуски в', title) \n",
    "    report = df.isna().sum().to_frame().rename(columns = {0: 'missing_values'})\n",
    "    report['% of total'] = ((report['missing_values'] / data.shape[0]).round(2))*100\n",
    "    display(report.sort_values(by = 'missing_values', ascending = False))\n",
    "    print()\n",
    "    print('Полных дубликатов в', title, df.duplicated().sum())\n",
    "    print()    \n",
    "    print('Баланс классов в', title)\n",
    "    class_ratio = data['toxic'].value_counts().to_frame().rename(columns = {'toxic': 'class_count'})\n",
    "    class_ratio['% of total'] = round(((data['toxic'].value_counts()/ len(df))*100), 2)\n",
    "    display(class_ratio)\n",
    "       \n",
    "df_info(data,'data')"
   ]
  },
  {
   "cell_type": "markdown",
   "metadata": {},
   "source": [
    "**Наблюдения:**\n",
    "\n",
    "Данные из 159571 комментариев без пропусков и дублей. Дубли ещё перепроверим после того, как приведем всё к нижнему регистру и уберём пунктуацию.  \n",
    "Типы соответсвуют данным.  \n",
    "Обнаружен дисбаланс классов практически 9:1. С ним будем бороться на уровне настройки весов классов для моделей. "
   ]
  },
  {
   "cell_type": "markdown",
   "metadata": {},
   "source": [
    "Очистим комментарии от символов пунктуации и приведём всё в нижний регистр."
   ]
  },
  {
   "cell_type": "code",
   "execution_count": 4,
   "metadata": {},
   "outputs": [
    {
     "data": {
      "text/html": [
       "<div>\n",
       "<style scoped>\n",
       "    .dataframe tbody tr th:only-of-type {\n",
       "        vertical-align: middle;\n",
       "    }\n",
       "\n",
       "    .dataframe tbody tr th {\n",
       "        vertical-align: top;\n",
       "    }\n",
       "\n",
       "    .dataframe thead th {\n",
       "        text-align: right;\n",
       "    }\n",
       "</style>\n",
       "<table border=\"1\" class=\"dataframe\">\n",
       "  <thead>\n",
       "    <tr style=\"text-align: right;\">\n",
       "      <th></th>\n",
       "      <th>Unnamed: 0</th>\n",
       "      <th>text</th>\n",
       "      <th>toxic</th>\n",
       "    </tr>\n",
       "  </thead>\n",
       "  <tbody>\n",
       "    <tr>\n",
       "      <th>0</th>\n",
       "      <td>0</td>\n",
       "      <td>explanation why the edits made under my userna...</td>\n",
       "      <td>0</td>\n",
       "    </tr>\n",
       "    <tr>\n",
       "      <th>1</th>\n",
       "      <td>1</td>\n",
       "      <td>daww he matches this background colour im seem...</td>\n",
       "      <td>0</td>\n",
       "    </tr>\n",
       "    <tr>\n",
       "      <th>2</th>\n",
       "      <td>2</td>\n",
       "      <td>hey man im really not trying to edit war its j...</td>\n",
       "      <td>0</td>\n",
       "    </tr>\n",
       "    <tr>\n",
       "      <th>3</th>\n",
       "      <td>3</td>\n",
       "      <td>more i cant make any real suggestions on impro...</td>\n",
       "      <td>0</td>\n",
       "    </tr>\n",
       "    <tr>\n",
       "      <th>4</th>\n",
       "      <td>4</td>\n",
       "      <td>you sir are my hero any chance you remember wh...</td>\n",
       "      <td>0</td>\n",
       "    </tr>\n",
       "  </tbody>\n",
       "</table>\n",
       "</div>"
      ],
      "text/plain": [
       "   Unnamed: 0                                               text  toxic\n",
       "0           0  explanation why the edits made under my userna...      0\n",
       "1           1  daww he matches this background colour im seem...      0\n",
       "2           2  hey man im really not trying to edit war its j...      0\n",
       "3           3  more i cant make any real suggestions on impro...      0\n",
       "4           4  you sir are my hero any chance you remember wh...      0"
      ]
     },
     "execution_count": 4,
     "metadata": {},
     "output_type": "execute_result"
    }
   ],
   "source": [
    "def clean_data(row):\n",
    "    row = re.sub(r'(?:\\n|\\r)', ' ', row)\n",
    "    row = re.sub(r'[^a-zA-Z ]+', '', row).strip()\n",
    "    row = row.lower()\n",
    "    return row\n",
    "\n",
    "data['text'] = data['text'].apply(clean_data)\n",
    "data.head()"
   ]
  },
  {
   "cell_type": "markdown",
   "metadata": {},
   "source": [
    "Перепроверим дубли"
   ]
  },
  {
   "cell_type": "code",
   "execution_count": 5,
   "metadata": {},
   "outputs": [
    {
     "data": {
      "text/plain": [
       "0"
      ]
     },
     "metadata": {},
     "output_type": "display_data"
    }
   ],
   "source": [
    "display(data.duplicated().sum())"
   ]
  },
  {
   "cell_type": "markdown",
   "metadata": {},
   "source": [
    "Дубли всё таки есть. Удаляем!"
   ]
  },
  {
   "cell_type": "code",
   "execution_count": 6,
   "metadata": {},
   "outputs": [
    {
     "data": {
      "text/plain": [
       "(159292, 3)"
      ]
     },
     "execution_count": 6,
     "metadata": {},
     "output_type": "execute_result"
    }
   ],
   "source": [
    "data = data.drop_duplicates()\n",
    "data.shape"
   ]
  },
  {
   "cell_type": "markdown",
   "metadata": {},
   "source": [
    "Лемаизируем с `nltk` и pos-тегами.   \n",
    "Выполнение кода минут на 15. Можно сходить заварить чайку)"
   ]
  },
  {
   "cell_type": "code",
   "execution_count": 7,
   "metadata": {},
   "outputs": [],
   "source": [
    "tag_dict = {\"J\": wordnet.ADJ,\"N\": wordnet.NOUN,\"V\": wordnet.VERB, \"R\": wordnet.ADV}\n",
    "\n",
    "def get_wordnet_pos(word):\n",
    "    tag = nltk.pos_tag([word])[0][1][0].upper()\n",
    "    return tag_dict.get(tag, wordnet.NOUN)\n",
    "\n",
    "stopwords = set(stopwords.words('english'))\n",
    "\n",
    "def lemmatized(text):\n",
    "    word_list = nltk.word_tokenize(text)\n",
    "    lemmatizer = WordNetLemmatizer()\n",
    "    without_stopwords = [word for word in word_list if not word in stopwords]\n",
    "    return \" \".join([lemmatizer.lemmatize(w, get_wordnet_pos(w)) for w in without_stopwords])\n",
    " \n",
    "data['text'] = data['text'].apply(lemmatized)"
   ]
  },
  {
   "cell_type": "markdown",
   "metadata": {},
   "source": [
    "Подготовим фичи и целевой признак перед обучением. Подбирать гиперпараметры будем через `GridSearchCV` c  кросс-валидациейп, потому делить будем только на трейн и тест."
   ]
  },
  {
   "cell_type": "code",
   "execution_count": 8,
   "metadata": {},
   "outputs": [],
   "source": [
    "features = data.drop(['toxic'], axis=1)\n",
    "target = data['toxic']\n",
    "\n",
    "features_train, features_test, target_train, target_test = train_test_split(features,\n",
    "                                                                            target, stratify=target,\n",
    "                                                                            test_size=0.2,\n",
    "                                                                            random_state=12345)"
   ]
  },
  {
   "cell_type": "markdown",
   "metadata": {},
   "source": [
    "Оценим важность слов с помощью `TF-IDF` для дальнейшего анализа тональности комментариев"
   ]
  },
  {
   "cell_type": "code",
   "execution_count": 9,
   "metadata": {},
   "outputs": [
    {
     "name": "stdout",
     "output_type": "stream",
     "text": [
      "Трейн  (127433, 177278)\n",
      "Тест   (31859, 177278)\n"
     ]
    }
   ],
   "source": [
    "count_tf_idf = TfidfVectorizer(stop_words=stopwords,ngram_range=(1,1))\n",
    "\n",
    "tf_idf_train = count_tf_idf.fit_transform(features_train['text'])\n",
    "tf_idf_test = count_tf_idf.transform(features_test['text'])\n",
    "\n",
    "print('Трейн ', tf_idf_train.shape)\n",
    "print('Тест  ',tf_idf_test.shape)"
   ]
  },
  {
   "cell_type": "markdown",
   "metadata": {},
   "source": [
    "### Вывод"
   ]
  },
  {
   "cell_type": "markdown",
   "metadata": {},
   "source": [
    "Подготовили данные, убрав регистр и знаки пунктуации. После этого этапа выявили дубли, от которых избавились. \n",
    "Разбили данные на обучающую и тестувую выборки. Гиперпараметры моделей будем подбирать через кросс-валидацию, поэтому эту выборку не выделяем.\n",
    "Для определения тональности будем применять величины TF-IDF как признаки. Расчитали их для  комментариев. \n"
   ]
  },
  {
   "cell_type": "markdown",
   "metadata": {},
   "source": [
    "## Обучение"
   ]
  },
  {
   "cell_type": "markdown",
   "metadata": {},
   "source": [
    "Признаков много. От классических деревянных моделей откажемся в пользу более эффективных.   \n",
    "Выберем для исследования 2 типа моделей классификации: LogisticRegression и градиентный бустинг LGBMClassifier.  \n",
    "Создадим фрейм, куда собирём результаты.   \n",
    "Диапазон подбора гиперпараметров уже сузил, чтобы не занимать длительное время на подбор, так как проходился предварительно по более широкому. "
   ]
  },
  {
   "cell_type": "code",
   "execution_count": 10,
   "metadata": {},
   "outputs": [],
   "source": [
    "column = ['model','F1_valid','F1_test']\n",
    "results = pd.DataFrame(columns=column)"
   ]
  },
  {
   "cell_type": "markdown",
   "metadata": {},
   "source": [
    "### LogisticRegression"
   ]
  },
  {
   "cell_type": "code",
   "execution_count": 11,
   "metadata": {},
   "outputs": [
    {
     "name": "stdout",
     "output_type": "stream",
     "text": [
      "Fitting 4 folds for each of 1 candidates, totalling 4 fits\n",
      "Лучшие параметры {'C': 5}\n",
      "F1_valid 0.7602862763404424\n",
      "F1_test 0.7626568890142433\n"
     ]
    }
   ],
   "source": [
    "lr = LogisticRegression(random_state=12345, class_weight='balanced', solver='liblinear')\n",
    "\n",
    "# гиперпараметры для первоначального подбора. Оставил ниже лучшие.\n",
    "# params = {'C': np.arange(1,9,2)} \n",
    "params = {'C': [5]}\n",
    "\n",
    "lr_gs = GridSearchCV(lr, params, cv=4, scoring='f1', verbose=True).fit(tf_idf_train, target_train)\n",
    "lr_gs.best_estimator_.fit(tf_idf_train, target_train)\n",
    "lr_predict_test = lr_gs.best_estimator_.predict(tf_idf_test)\n",
    "lr_f1_test = f1_score(target_test, lr_predict_test)\n",
    "\n",
    "print (\"Лучшие параметры\", lr_gs.best_params_)\n",
    "print (\"F1_valid\", lr_gs.best_score_)\n",
    "print (\"F1_test\", lr_f1_test)"
   ]
  },
  {
   "cell_type": "markdown",
   "metadata": {},
   "source": [
    "Заносим результаты"
   ]
  },
  {
   "cell_type": "code",
   "execution_count": 12,
   "metadata": {},
   "outputs": [],
   "source": [
    "results = pd.concat([results, pd.DataFrame([['LogisticRegression', round(lr_gs.best_score_, 4), \n",
    "                                             round(lr_f1_test, 4)]], columns=column)])          "
   ]
  },
  {
   "cell_type": "markdown",
   "metadata": {},
   "source": [
    "### LGBMClassifier"
   ]
  },
  {
   "cell_type": "markdown",
   "metadata": {},
   "source": [
    "Тут тоже оставил уже лучшие гиперпараметры, но обучается модель в JupiterHub очень долго, в GoogleColab минут 16 всего. "
   ]
  },
  {
   "cell_type": "code",
   "execution_count": 13,
   "metadata": {},
   "outputs": [
    {
     "name": "stdout",
     "output_type": "stream",
     "text": [
      "Лучшие параметры {'max_depth': 30, 'n_estimators': 300}\n",
      "F1_valid 0.7473069194825237\n",
      "F1_test 0.7510384934921074\n"
     ]
    }
   ],
   "source": [
    "lgbm = lgb.LGBMClassifier(objective='binary', class_weight='balanced', n_jobs = -1)\n",
    "\n",
    "# гиперпараметры для первоначального подбора. Оставил ниже лучшие.\n",
    "# param_grid = {'max_depth': np.arange(10, 60, 10),\n",
    "#              'n_estimators': np.arange(100, 600, 100)}\n",
    " \n",
    "param_grid = {'max_depth': [30],\n",
    "              'n_estimators': [300]}\n",
    "\n",
    "lrgb_gs = GridSearchCV(lgbm, param_grid = param_grid, cv=4, scoring='f1').fit(tf_idf_train, target_train)\n",
    "lrgb_gs.best_estimator_.fit(tf_idf_train, target_train)\n",
    "lrgb_predict_test = lrgb_gs.best_estimator_.predict(tf_idf_test)\n",
    "lrgb_f1_test = f1_score(target_test, lrgb_predict_test)\n",
    "\n",
    "print (\"Лучшие параметры\", lrgb_gs.best_params_)\n",
    "print (\"F1_valid\", lrgb_gs.best_score_)\n",
    "print (\"F1_test\", lrgb_f1_test)"
   ]
  },
  {
   "cell_type": "markdown",
   "metadata": {},
   "source": [
    "Заносим результаты"
   ]
  },
  {
   "cell_type": "code",
   "execution_count": 14,
   "metadata": {},
   "outputs": [],
   "source": [
    "results = pd.concat([results, pd.DataFrame([['LGBMClassifier', round(lrgb_gs.best_score_, 4), \n",
    "                                             round(lrgb_f1_test, 4)]], columns=column)])  "
   ]
  },
  {
   "cell_type": "markdown",
   "metadata": {},
   "source": [
    "Вводим результы и визуализируем, построив их групповой график."
   ]
  },
  {
   "cell_type": "code",
   "execution_count": 15,
   "metadata": {},
   "outputs": [
    {
     "data": {
      "text/html": [
       "<div>\n",
       "<style scoped>\n",
       "    .dataframe tbody tr th:only-of-type {\n",
       "        vertical-align: middle;\n",
       "    }\n",
       "\n",
       "    .dataframe tbody tr th {\n",
       "        vertical-align: top;\n",
       "    }\n",
       "\n",
       "    .dataframe thead th {\n",
       "        text-align: right;\n",
       "    }\n",
       "</style>\n",
       "<table border=\"1\" class=\"dataframe\">\n",
       "  <thead>\n",
       "    <tr style=\"text-align: right;\">\n",
       "      <th></th>\n",
       "      <th>F1_valid</th>\n",
       "      <th>F1_test</th>\n",
       "    </tr>\n",
       "    <tr>\n",
       "      <th>model</th>\n",
       "      <th></th>\n",
       "      <th></th>\n",
       "    </tr>\n",
       "  </thead>\n",
       "  <tbody>\n",
       "    <tr>\n",
       "      <th>LogisticRegression</th>\n",
       "      <td>0.7603</td>\n",
       "      <td>0.7627</td>\n",
       "    </tr>\n",
       "    <tr>\n",
       "      <th>LGBMClassifier</th>\n",
       "      <td>0.7473</td>\n",
       "      <td>0.7510</td>\n",
       "    </tr>\n",
       "  </tbody>\n",
       "</table>\n",
       "</div>"
      ],
      "text/plain": [
       "                    F1_valid  F1_test\n",
       "model                                \n",
       "LogisticRegression    0.7603   0.7627\n",
       "LGBMClassifier        0.7473   0.7510"
      ]
     },
     "execution_count": 15,
     "metadata": {},
     "output_type": "execute_result"
    }
   ],
   "source": [
    "results = results.set_index('model')\n",
    "results"
   ]
  },
  {
   "cell_type": "markdown",
   "metadata": {},
   "source": [
    "Модель Логистической регресии показывает более лучшую метрику F1.  \n",
    "К тому же обычается заметно быстрее."
   ]
  },
  {
   "cell_type": "markdown",
   "metadata": {},
   "source": [
    "## Выводы"
   ]
  },
  {
   "cell_type": "markdown",
   "metadata": {},
   "source": [
    "Протестировали 2 вида моделей. На валидации обе набирают подходящую метрику F1 > 0.75.Но на тесте с условием справляется только LogisticRegression. Метрика не сильно выше требуемой, но выше.   \n",
    "Считаем, что с поставленной задачей справились."
   ]
  },
  {
   "cell_type": "markdown",
   "metadata": {},
   "source": [
    "Перепроверим производительность классификации с помощью ROC AUC"
   ]
  },
  {
   "cell_type": "code",
   "execution_count": 16,
   "metadata": {},
   "outputs": [
    {
     "name": "stdout",
     "output_type": "stream",
     "text": [
      "ROC AUC = 0.8976\n"
     ]
    },
    {
     "data": {
      "image/png": "[encoded data removed]",
      "text/plain": [
       "<Figure size 432x288 with 1 Axes>"
      ]
     },
     "metadata": {
      "needs_background": "light"
     },
     "output_type": "display_data"
    }
   ],
   "source": [
    "lr_probs = lr_predict_test[: 1]\n",
    "fpr, tpr, thresholds = metrics.roc_curve(target_test, lr_predict_test, pos_label=1)\n",
    "lr_auc = metrics.auc(fpr, tpr)\n",
    "print('ROC AUC =', round(lr_auc,4))\n",
    "\n",
    "plt.plot(fpr, tpr, color='darkorange',\n",
    "         label='ROC кривая')\n",
    "plt.plot([0, 1], [0, 1], color='navy', linestyle='--')\n",
    "plt.xlim([0.0, 1.0])\n",
    "plt.ylim([0.0, 1.05])\n",
    "plt.xlabel('False Positive Rate')\n",
    "plt.ylabel('True Positive Rate')\n",
    "plt.title('ROC-кривая')\n",
    "plt.legend(loc=\"lower right\")\n",
    "plt.show()"
   ]
  },
  {
   "cell_type": "markdown",
   "metadata": {},
   "source": [
    "Выбранная модель предсказывает адекватно."
   ]
  }
 ],
 "metadata": {
  "ExecuteTimeLog": [
   {
    "duration": 2062,
    "start_time": "2021-07-05T12:04:43.441Z"
   },
   {
    "duration": 96,
    "start_time": "2021-07-05T12:04:45.506Z"
   },
   {
    "duration": 2685,
    "start_time": "2021-07-05T12:04:57.000Z"
   },
   {
    "duration": 7657,
    "start_time": "2021-07-05T12:06:53.848Z"
   },
   {
    "duration": 15,
    "start_time": "2021-07-05T12:07:16.664Z"
   },
   {
    "duration": 412,
    "start_time": "2021-07-05T12:12:01.811Z"
   },
   {
    "duration": 386,
    "start_time": "2021-07-05T12:13:01.639Z"
   },
   {
    "duration": 92,
    "start_time": "2021-07-05T12:54:32.907Z"
   },
   {
    "duration": 90,
    "start_time": "2021-07-05T12:54:55.265Z"
   },
   {
    "duration": 117,
    "start_time": "2021-07-05T12:55:18.147Z"
   },
   {
    "duration": 788,
    "start_time": "2021-07-05T12:55:30.792Z"
   },
   {
    "duration": 828,
    "start_time": "2021-07-05T12:56:25.156Z"
   },
   {
    "duration": 846,
    "start_time": "2021-07-05T12:56:48.498Z"
   },
   {
    "duration": 837,
    "start_time": "2021-07-05T13:00:30.338Z"
   },
   {
    "duration": 352,
    "start_time": "2021-07-05T13:01:06.669Z"
   },
   {
    "duration": 361,
    "start_time": "2021-07-05T13:02:06.829Z"
   },
   {
    "duration": 360,
    "start_time": "2021-07-05T13:02:21.798Z"
   },
   {
    "duration": 766,
    "start_time": "2021-07-05T13:03:07.123Z"
   },
   {
    "duration": 1379,
    "start_time": "2021-07-05T13:03:20.705Z"
   },
   {
    "duration": 809,
    "start_time": "2021-07-05T13:03:44.636Z"
   },
   {
    "duration": 784,
    "start_time": "2021-07-05T13:04:05.443Z"
   },
   {
    "duration": 804,
    "start_time": "2021-07-05T13:04:29.998Z"
   },
   {
    "duration": 779,
    "start_time": "2021-07-05T13:05:12.671Z"
   },
   {
    "duration": 776,
    "start_time": "2021-07-05T13:05:30.954Z"
   },
   {
    "duration": 371,
    "start_time": "2021-07-05T13:05:43.737Z"
   },
   {
    "duration": 377,
    "start_time": "2021-07-05T13:06:07.044Z"
   },
   {
    "duration": 345,
    "start_time": "2021-07-05T13:06:22.401Z"
   },
   {
    "duration": 942,
    "start_time": "2021-07-05T13:06:55.497Z"
   },
   {
    "duration": 459,
    "start_time": "2021-07-05T13:07:34.502Z"
   },
   {
    "duration": 7063,
    "start_time": "2021-07-05T13:08:47.150Z"
   },
   {
    "duration": 794,
    "start_time": "2021-07-05T13:09:34.251Z"
   },
   {
    "duration": 7194,
    "start_time": "2021-07-05T13:09:43.533Z"
   },
   {
    "duration": 7162,
    "start_time": "2021-07-05T13:10:49.479Z"
   },
   {
    "duration": 359,
    "start_time": "2021-07-05T13:11:34.211Z"
   },
   {
    "duration": 7802,
    "start_time": "2021-07-05T13:14:24.965Z"
   },
   {
    "duration": 7373,
    "start_time": "2021-07-05T13:15:09.006Z"
   },
   {
    "duration": 8651,
    "start_time": "2021-07-05T13:22:45.206Z"
   },
   {
    "duration": 7383,
    "start_time": "2021-07-05T13:23:17.396Z"
   },
   {
    "duration": 7238,
    "start_time": "2021-07-05T13:24:01.040Z"
   },
   {
    "duration": 367,
    "start_time": "2021-07-05T13:24:20.049Z"
   },
   {
    "duration": 96,
    "start_time": "2021-07-05T13:24:51.524Z"
   },
   {
    "duration": 106,
    "start_time": "2021-07-05T13:24:57.968Z"
   },
   {
    "duration": 127,
    "start_time": "2021-07-05T13:25:18.538Z"
   },
   {
    "duration": 373,
    "start_time": "2021-07-05T13:25:35.829Z"
   },
   {
    "duration": 3593,
    "start_time": "2021-07-05T14:19:48.543Z"
   },
   {
    "duration": 2572,
    "start_time": "2021-07-05T14:20:13.539Z"
   },
   {
    "duration": 3142,
    "start_time": "2021-07-05T14:20:31.793Z"
   },
   {
    "duration": 2733,
    "start_time": "2021-07-05T14:20:42.567Z"
   },
   {
    "duration": 2687,
    "start_time": "2021-07-05T14:22:17.056Z"
   },
   {
    "duration": 3479,
    "start_time": "2021-07-05T14:22:51.192Z"
   },
   {
    "duration": 2621,
    "start_time": "2021-07-05T14:24:25.187Z"
   },
   {
    "duration": 2688,
    "start_time": "2021-07-05T14:26:59.819Z"
   },
   {
    "duration": 3003,
    "start_time": "2021-07-05T14:27:37.227Z"
   },
   {
    "duration": 280,
    "start_time": "2021-07-05T14:50:31.187Z"
   },
   {
    "duration": 3884034,
    "start_time": "2021-07-05T14:50:36.529Z"
   },
   {
    "duration": 2746,
    "start_time": "2021-07-05T16:06:33.709Z"
   },
   {
    "duration": 2888,
    "start_time": "2021-07-05T16:06:58.770Z"
   },
   {
    "duration": 104,
    "start_time": "2021-07-05T16:10:16.498Z"
   },
   {
    "duration": 45,
    "start_time": "2021-07-05T16:10:40.689Z"
   },
   {
    "duration": 3344,
    "start_time": "2021-07-05T16:10:46.653Z"
   },
   {
    "duration": 1943,
    "start_time": "2021-07-05T16:11:03.690Z"
   },
   {
    "duration": 3990,
    "start_time": "2021-07-05T16:11:05.636Z"
   },
   {
    "duration": 392,
    "start_time": "2021-07-05T16:11:09.629Z"
   },
   {
    "duration": 3887,
    "start_time": "2021-07-05T16:11:10.024Z"
   },
   {
    "duration": 96,
    "start_time": "2021-07-05T16:11:13.913Z"
   },
   {
    "duration": 11,
    "start_time": "2021-07-05T16:52:55.780Z"
   },
   {
    "duration": 3883,
    "start_time": "2021-07-05T16:52:55.794Z"
   },
   {
    "duration": 391,
    "start_time": "2021-07-05T16:52:59.680Z"
   },
   {
    "duration": 4175,
    "start_time": "2021-07-05T16:53:00.073Z"
   },
   {
    "duration": 257,
    "start_time": "2021-07-05T16:53:04.255Z"
   },
   {
    "duration": 4,
    "start_time": "2021-07-05T16:53:04.514Z"
   },
   {
    "duration": 18,
    "start_time": "2021-07-05T16:53:04.521Z"
   },
   {
    "duration": 1973,
    "start_time": "2021-07-05T16:55:40.548Z"
   },
   {
    "duration": 5104,
    "start_time": "2021-07-05T16:55:42.523Z"
   },
   {
    "duration": 398,
    "start_time": "2021-07-05T16:55:47.630Z"
   },
   {
    "duration": 3796,
    "start_time": "2021-07-05T16:55:48.031Z"
   },
   {
    "duration": 259,
    "start_time": "2021-07-05T16:55:51.830Z"
   },
   {
    "duration": 1446,
    "start_time": "2021-07-06T20:52:06.563Z"
   },
   {
    "duration": 4327,
    "start_time": "2021-07-06T20:52:08.010Z"
   },
   {
    "duration": 273,
    "start_time": "2021-07-06T20:52:12.342Z"
   },
   {
    "duration": 1112,
    "start_time": "2021-07-06T20:52:12.616Z"
   },
   {
    "duration": 16750,
    "start_time": "2021-07-06T20:51:56.979Z"
   },
   {
    "duration": 16739,
    "start_time": "2021-07-06T20:51:56.991Z"
   },
   {
    "duration": 16729,
    "start_time": "2021-07-06T20:51:57.002Z"
   },
   {
    "duration": 16724,
    "start_time": "2021-07-06T20:51:57.008Z"
   },
   {
    "duration": 2054,
    "start_time": "2021-07-06T20:53:03.120Z"
   },
   {
    "duration": 170,
    "start_time": "2021-07-06T20:53:35.374Z"
   },
   {
    "duration": 184,
    "start_time": "2021-07-06T20:53:38.283Z"
   },
   {
    "duration": 1499,
    "start_time": "2021-07-06T21:05:25.087Z"
   },
   {
    "duration": 2001,
    "start_time": "2021-07-06T21:05:26.587Z"
   },
   {
    "duration": 375,
    "start_time": "2021-07-06T21:05:28.590Z"
   },
   {
    "duration": 3931,
    "start_time": "2021-07-06T21:05:28.967Z"
   },
   {
    "duration": 172,
    "start_time": "2021-07-06T21:05:32.900Z"
   },
   {
    "duration": 175,
    "start_time": "2021-07-06T21:05:33.074Z"
   },
   {
    "duration": 82,
    "start_time": "2021-07-06T21:05:33.251Z"
   },
   {
    "duration": 16853,
    "start_time": "2021-07-06T21:05:16.482Z"
   },
   {
    "duration": 134,
    "start_time": "2021-07-06T21:07:11.823Z"
   },
   {
    "duration": 321,
    "start_time": "2021-07-06T21:27:52.625Z"
   },
   {
    "duration": 5,
    "start_time": "2021-07-06T21:29:29.755Z"
   },
   {
    "duration": 268,
    "start_time": "2021-07-06T21:29:37.030Z"
   },
   {
    "duration": 7,
    "start_time": "2021-07-06T21:45:45.275Z"
   },
   {
    "duration": 231,
    "start_time": "2021-07-06T21:49:26.872Z"
   },
   {
    "duration": 218,
    "start_time": "2021-07-06T21:49:38.681Z"
   },
   {
    "duration": 217,
    "start_time": "2021-07-06T21:57:16.902Z"
   },
   {
    "duration": 243,
    "start_time": "2021-07-06T21:57:31.806Z"
   },
   {
    "duration": 223,
    "start_time": "2021-07-06T21:57:59.957Z"
   },
   {
    "duration": 264,
    "start_time": "2021-07-06T22:00:12.503Z"
   },
   {
    "duration": 1481,
    "start_time": "2021-07-06T22:01:52.654Z"
   },
   {
    "duration": 2056,
    "start_time": "2021-07-06T22:01:54.137Z"
   },
   {
    "duration": 298,
    "start_time": "2021-07-06T22:01:56.194Z"
   },
   {
    "duration": 2099,
    "start_time": "2021-07-06T22:01:56.494Z"
   },
   {
    "duration": 175,
    "start_time": "2021-07-06T22:01:58.595Z"
   },
   {
    "duration": 184,
    "start_time": "2021-07-06T22:01:58.771Z"
   },
   {
    "duration": 143,
    "start_time": "2021-07-06T22:01:58.957Z"
   },
   {
    "duration": 5893,
    "start_time": "2021-07-06T22:01:59.102Z"
   },
   {
    "duration": 17021,
    "start_time": "2021-07-06T22:01:47.976Z"
   },
   {
    "duration": 6,
    "start_time": "2021-07-06T22:03:52.025Z"
   },
   {
    "duration": 6979,
    "start_time": "2021-07-06T22:03:59.547Z"
   },
   {
    "duration": 6214,
    "start_time": "2021-07-06T22:04:28.979Z"
   },
   {
    "duration": 240,
    "start_time": "2021-07-06T22:16:16.578Z"
   },
   {
    "duration": 1432,
    "start_time": "2021-07-06T22:16:23.892Z"
   },
   {
    "duration": 1977,
    "start_time": "2021-07-06T22:16:25.326Z"
   },
   {
    "duration": 287,
    "start_time": "2021-07-06T22:16:27.305Z"
   },
   {
    "duration": 2127,
    "start_time": "2021-07-06T22:16:27.594Z"
   },
   {
    "duration": 172,
    "start_time": "2021-07-06T22:16:29.722Z"
   },
   {
    "duration": 184,
    "start_time": "2021-07-06T22:16:29.896Z"
   },
   {
    "duration": 141,
    "start_time": "2021-07-06T22:16:30.081Z"
   },
   {
    "duration": 6603,
    "start_time": "2021-07-06T22:16:30.224Z"
   },
   {
    "duration": 319,
    "start_time": "2021-07-06T22:16:36.829Z"
   },
   {
    "duration": 283,
    "start_time": "2021-07-06T22:17:50.677Z"
   },
   {
    "duration": 1508,
    "start_time": "2021-07-06T22:17:57.211Z"
   },
   {
    "duration": 2241,
    "start_time": "2021-07-06T22:17:58.721Z"
   },
   {
    "duration": 300,
    "start_time": "2021-07-06T22:18:00.964Z"
   },
   {
    "duration": 2185,
    "start_time": "2021-07-06T22:18:01.266Z"
   },
   {
    "duration": 172,
    "start_time": "2021-07-06T22:18:03.453Z"
   },
   {
    "duration": 180,
    "start_time": "2021-07-06T22:18:03.626Z"
   },
   {
    "duration": 129,
    "start_time": "2021-07-06T22:18:03.808Z"
   },
   {
    "duration": 6273,
    "start_time": "2021-07-06T22:18:03.939Z"
   },
   {
    "duration": 310,
    "start_time": "2021-07-06T22:18:10.214Z"
   },
   {
    "duration": 4,
    "start_time": "2021-07-06T22:18:56.727Z"
   },
   {
    "duration": 252,
    "start_time": "2021-07-06T22:21:47.521Z"
   },
   {
    "duration": 1410,
    "start_time": "2021-07-06T22:21:55.814Z"
   },
   {
    "duration": 1579,
    "start_time": "2021-07-06T22:21:57.226Z"
   },
   {
    "duration": 291,
    "start_time": "2021-07-06T22:21:58.807Z"
   },
   {
    "duration": 2101,
    "start_time": "2021-07-06T22:21:59.100Z"
   },
   {
    "duration": 174,
    "start_time": "2021-07-06T22:22:01.203Z"
   },
   {
    "duration": 188,
    "start_time": "2021-07-06T22:22:01.378Z"
   },
   {
    "duration": 134,
    "start_time": "2021-07-06T22:22:01.568Z"
   },
   {
    "duration": 11298,
    "start_time": "2021-07-06T22:22:01.704Z"
   },
   {
    "duration": 329,
    "start_time": "2021-07-06T22:22:13.004Z"
   },
   {
    "duration": 4,
    "start_time": "2021-07-06T22:22:48.591Z"
   },
   {
    "duration": 4,
    "start_time": "2021-07-06T22:23:10.348Z"
   },
   {
    "duration": 5,
    "start_time": "2021-07-06T22:23:28.776Z"
   },
   {
    "duration": 3,
    "start_time": "2021-07-06T22:24:03.635Z"
   },
   {
    "duration": 9,
    "start_time": "2021-07-06T22:42:21.703Z"
   },
   {
    "duration": 1470,
    "start_time": "2021-07-06T22:56:26.712Z"
   },
   {
    "duration": 2347,
    "start_time": "2021-07-06T22:56:28.184Z"
   },
   {
    "duration": 310,
    "start_time": "2021-07-06T22:56:30.533Z"
   },
   {
    "duration": 2143,
    "start_time": "2021-07-06T22:56:30.845Z"
   },
   {
    "duration": 167,
    "start_time": "2021-07-06T22:56:32.990Z"
   },
   {
    "duration": 176,
    "start_time": "2021-07-06T22:56:33.158Z"
   },
   {
    "duration": 510,
    "start_time": "2021-07-06T22:56:33.336Z"
   },
   {
    "duration": 17061,
    "start_time": "2021-07-06T22:56:16.787Z"
   },
   {
    "duration": 17057,
    "start_time": "2021-07-06T22:56:16.792Z"
   },
   {
    "duration": 399,
    "start_time": "2021-07-06T22:58:15.708Z"
   },
   {
    "duration": 402,
    "start_time": "2021-07-06T22:59:50.152Z"
   },
   {
    "duration": 1431,
    "start_time": "2021-07-06T23:08:16.172Z"
   },
   {
    "duration": 2213,
    "start_time": "2021-07-06T23:08:17.605Z"
   },
   {
    "duration": 290,
    "start_time": "2021-07-06T23:08:19.820Z"
   },
   {
    "duration": 2180,
    "start_time": "2021-07-06T23:08:20.112Z"
   },
   {
    "duration": 173,
    "start_time": "2021-07-06T23:08:22.293Z"
   },
   {
    "duration": 169,
    "start_time": "2021-07-06T23:08:22.467Z"
   },
   {
    "duration": 497,
    "start_time": "2021-07-06T23:08:22.638Z"
   },
   {
    "duration": 17083,
    "start_time": "2021-07-06T23:08:06.054Z"
   },
   {
    "duration": 17078,
    "start_time": "2021-07-06T23:08:06.059Z"
   },
   {
    "duration": 17075,
    "start_time": "2021-07-06T23:08:06.063Z"
   },
   {
    "duration": 17071,
    "start_time": "2021-07-06T23:08:06.068Z"
   },
   {
    "duration": 412,
    "start_time": "2021-07-06T23:12:04.500Z"
   },
   {
    "duration": 692,
    "start_time": "2021-07-06T23:18:15.287Z"
   },
   {
    "duration": 17229,
    "start_time": "2021-07-06T23:18:49.635Z"
   },
   {
    "duration": 17218,
    "start_time": "2021-07-06T23:18:49.646Z"
   },
   {
    "duration": 17203,
    "start_time": "2021-07-06T23:18:49.662Z"
   },
   {
    "duration": 17196,
    "start_time": "2021-07-06T23:18:49.670Z"
   },
   {
    "duration": 17189,
    "start_time": "2021-07-06T23:18:49.678Z"
   },
   {
    "duration": 17186,
    "start_time": "2021-07-06T23:18:49.682Z"
   },
   {
    "duration": 17182,
    "start_time": "2021-07-06T23:18:49.686Z"
   },
   {
    "duration": 17179,
    "start_time": "2021-07-06T23:18:49.690Z"
   },
   {
    "duration": 17176,
    "start_time": "2021-07-06T23:18:49.694Z"
   },
   {
    "duration": 17172,
    "start_time": "2021-07-06T23:18:49.699Z"
   },
   {
    "duration": 17154,
    "start_time": "2021-07-06T23:18:49.717Z"
   },
   {
    "duration": 1357,
    "start_time": "2021-07-06T23:19:47.341Z"
   },
   {
    "duration": 1746,
    "start_time": "2021-07-06T23:19:48.700Z"
   },
   {
    "duration": 308,
    "start_time": "2021-07-06T23:19:50.449Z"
   },
   {
    "duration": 2469,
    "start_time": "2021-07-06T23:19:50.758Z"
   },
   {
    "duration": 194,
    "start_time": "2021-07-06T23:19:53.229Z"
   },
   {
    "duration": 194,
    "start_time": "2021-07-06T23:19:53.426Z"
   },
   {
    "duration": 335,
    "start_time": "2021-07-06T23:19:53.623Z"
   },
   {
    "duration": 17228,
    "start_time": "2021-07-06T23:19:36.732Z"
   },
   {
    "duration": 17188,
    "start_time": "2021-07-06T23:19:36.774Z"
   },
   {
    "duration": 17153,
    "start_time": "2021-07-06T23:19:36.810Z"
   },
   {
    "duration": 17148,
    "start_time": "2021-07-06T23:19:36.817Z"
   },
   {
    "duration": 1448,
    "start_time": "2021-07-06T23:22:36.995Z"
   },
   {
    "duration": 1693,
    "start_time": "2021-07-06T23:22:38.445Z"
   },
   {
    "duration": 276,
    "start_time": "2021-07-06T23:22:40.140Z"
   },
   {
    "duration": 2097,
    "start_time": "2021-07-06T23:22:40.417Z"
   },
   {
    "duration": 178,
    "start_time": "2021-07-06T23:22:42.515Z"
   },
   {
    "duration": 181,
    "start_time": "2021-07-06T23:22:42.694Z"
   },
   {
    "duration": 325,
    "start_time": "2021-07-06T23:22:42.877Z"
   },
   {
    "duration": 17249,
    "start_time": "2021-07-06T23:22:25.955Z"
   },
   {
    "duration": 17245,
    "start_time": "2021-07-06T23:22:25.960Z"
   },
   {
    "duration": 17242,
    "start_time": "2021-07-06T23:22:25.964Z"
   },
   {
    "duration": 17235,
    "start_time": "2021-07-06T23:22:25.972Z"
   },
   {
    "duration": 241,
    "start_time": "2021-07-06T23:23:04.348Z"
   },
   {
    "duration": 6,
    "start_time": "2021-07-06T23:24:31.912Z"
   },
   {
    "duration": 1869,
    "start_time": "2021-07-06T23:24:46.834Z"
   },
   {
    "duration": 222,
    "start_time": "2021-07-06T23:26:47.945Z"
   },
   {
    "duration": 252,
    "start_time": "2021-07-06T23:31:01.289Z"
   },
   {
    "duration": 117,
    "start_time": "2021-07-07T11:57:25.154Z"
   },
   {
    "duration": 102,
    "start_time": "2021-07-07T11:57:31.104Z"
   },
   {
    "duration": 5657,
    "start_time": "2021-07-07T12:04:15.690Z"
   },
   {
    "duration": 5117,
    "start_time": "2021-07-07T12:04:21.350Z"
   },
   {
    "duration": 410,
    "start_time": "2021-07-07T12:04:26.469Z"
   },
   {
    "duration": 3738,
    "start_time": "2021-07-07T12:04:26.882Z"
   },
   {
    "duration": 252,
    "start_time": "2021-07-07T12:04:30.622Z"
   },
   {
    "duration": 261,
    "start_time": "2021-07-07T12:04:30.876Z"
   },
   {
    "duration": 4369,
    "start_time": "2021-07-07T12:04:31.139Z"
   },
   {
    "duration": 17637,
    "start_time": "2021-07-07T12:04:17.873Z"
   },
   {
    "duration": 17631,
    "start_time": "2021-07-07T12:04:17.881Z"
   },
   {
    "duration": 17622,
    "start_time": "2021-07-07T12:04:17.891Z"
   },
   {
    "duration": 3978,
    "start_time": "2021-07-07T12:05:37.479Z"
   },
   {
    "duration": 1386803,
    "start_time": "2021-07-07T12:05:50.751Z"
   },
   {
    "duration": 212,
    "start_time": "2021-07-07T12:28:57.556Z"
   },
   {
    "duration": 22368,
    "start_time": "2021-07-07T12:28:57.771Z"
   },
   {
    "duration": 382,
    "start_time": "2021-07-07T12:37:43.541Z"
   },
   {
    "duration": 423,
    "start_time": "2021-07-07T12:58:59.766Z"
   },
   {
    "duration": 3374,
    "start_time": "2021-07-07T12:59:08.217Z"
   },
   {
    "duration": 767,
    "start_time": "2021-07-07T12:59:15.176Z"
   },
   {
    "duration": 363,
    "start_time": "2021-07-07T13:07:00.553Z"
   },
   {
    "duration": 353,
    "start_time": "2021-07-07T13:07:26.912Z"
   },
   {
    "duration": 5829,
    "start_time": "2021-07-07T13:08:18.242Z"
   },
   {
    "duration": 3694,
    "start_time": "2021-07-07T13:08:24.074Z"
   },
   {
    "duration": 430,
    "start_time": "2021-07-07T13:08:27.773Z"
   },
   {
    "duration": 3877,
    "start_time": "2021-07-07T13:08:28.206Z"
   },
   {
    "duration": 269,
    "start_time": "2021-07-07T13:08:32.087Z"
   },
   {
    "duration": 290,
    "start_time": "2021-07-07T13:08:32.359Z"
   },
   {
    "duration": 1342477,
    "start_time": "2021-07-07T13:08:32.652Z"
   },
   {
    "duration": 199,
    "start_time": "2021-07-07T13:30:55.132Z"
   },
   {
    "duration": 15290,
    "start_time": "2021-07-07T13:30:55.335Z"
   },
   {
    "duration": 481,
    "start_time": "2021-07-07T13:31:10.628Z"
   },
   {
    "duration": 17925,
    "start_time": "2021-07-07T13:30:53.186Z"
   },
   {
    "duration": 6,
    "start_time": "2021-07-07T13:33:27.719Z"
   },
   {
    "duration": 326,
    "start_time": "2021-07-07T22:37:56.971Z"
   },
   {
    "duration": 6912,
    "start_time": "2021-07-07T22:38:13.384Z"
   },
   {
    "duration": 18,
    "start_time": "2021-07-07T22:38:23.424Z"
   },
   {
    "duration": 7287,
    "start_time": "2021-07-08T08:05:22.833Z"
   },
   {
    "duration": 7644,
    "start_time": "2021-07-08T08:05:30.123Z"
   },
   {
    "duration": 501,
    "start_time": "2021-07-08T08:05:37.770Z"
   },
   {
    "duration": 5156,
    "start_time": "2021-07-08T08:05:38.275Z"
   },
   {
    "duration": 317,
    "start_time": "2021-07-08T08:05:43.434Z"
   },
   {
    "duration": 310,
    "start_time": "2021-07-08T08:05:43.757Z"
   },
   {
    "duration": 1390428,
    "start_time": "2021-07-08T08:05:44.069Z"
   },
   {
    "duration": 171,
    "start_time": "2021-07-08T08:28:54.500Z"
   },
   {
    "duration": 10523,
    "start_time": "2021-07-08T08:28:54.676Z"
   },
   {
    "duration": 7,
    "start_time": "2021-07-08T08:29:05.202Z"
   },
   {
    "duration": 145427,
    "start_time": "2021-07-08T08:29:05.212Z"
   },
   {
    "duration": 17,
    "start_time": "2021-07-08T08:31:30.642Z"
   },
   {
    "duration": 1874168,
    "start_time": "2021-07-08T08:31:30.661Z"
   },
   {
    "duration": 17706,
    "start_time": "2021-07-08T09:02:27.127Z"
   },
   {
    "duration": 17702,
    "start_time": "2021-07-08T09:02:27.133Z"
   },
   {
    "duration": 17699,
    "start_time": "2021-07-08T09:02:27.138Z"
   },
   {
    "duration": 17696,
    "start_time": "2021-07-08T09:02:27.142Z"
   },
   {
    "duration": 17694,
    "start_time": "2021-07-08T09:02:27.146Z"
   },
   {
    "duration": 17153,
    "start_time": "2021-07-08T09:44:40.111Z"
   },
   {
    "duration": 17114,
    "start_time": "2021-07-08T09:44:40.153Z"
   },
   {
    "duration": 17105,
    "start_time": "2021-07-08T09:44:40.164Z"
   },
   {
    "duration": 17102,
    "start_time": "2021-07-08T09:44:40.169Z"
   },
   {
    "duration": 5598,
    "start_time": "2021-07-08T11:34:49.247Z"
   },
   {
    "duration": 5791,
    "start_time": "2021-07-08T11:34:54.848Z"
   },
   {
    "duration": 438,
    "start_time": "2021-07-08T11:35:00.642Z"
   },
   {
    "duration": 4012,
    "start_time": "2021-07-08T11:35:01.083Z"
   },
   {
    "duration": 291,
    "start_time": "2021-07-08T11:35:05.099Z"
   },
   {
    "duration": 289,
    "start_time": "2021-07-08T11:35:05.392Z"
   },
   {
    "duration": 1472626,
    "start_time": "2021-07-08T11:35:05.684Z"
   },
   {
    "duration": 166,
    "start_time": "2021-07-08T11:59:38.313Z"
   },
   {
    "duration": 12967,
    "start_time": "2021-07-08T11:59:38.484Z"
   },
   {
    "duration": 9,
    "start_time": "2021-07-08T11:59:51.457Z"
   },
   {
    "duration": 162560,
    "start_time": "2021-07-08T11:59:51.470Z"
   },
   {
    "duration": 7,
    "start_time": "2021-07-08T12:02:34.033Z"
   },
   {
    "duration": 5079,
    "start_time": "2021-10-12T14:07:56.730Z"
   },
   {
    "duration": 2378,
    "start_time": "2021-10-12T14:08:01.810Z"
   },
   {
    "duration": 296,
    "start_time": "2021-10-12T14:08:04.190Z"
   },
   {
    "duration": 2216,
    "start_time": "2021-10-12T14:08:04.488Z"
   },
   {
    "duration": 174,
    "start_time": "2021-10-12T14:08:06.705Z"
   },
   {
    "duration": 183,
    "start_time": "2021-10-12T14:08:06.880Z"
   },
   {
    "duration": 682374,
    "start_time": "2021-10-12T14:08:07.065Z"
   },
   {
    "duration": 74,
    "start_time": "2021-10-12T14:19:29.442Z"
   },
   {
    "duration": 4761,
    "start_time": "2021-10-12T14:19:29.518Z"
   },
   {
    "duration": 5,
    "start_time": "2021-10-12T14:19:34.281Z"
   },
   {
    "duration": 132110,
    "start_time": "2021-10-12T14:19:34.288Z"
   },
   {
    "duration": 4,
    "start_time": "2021-10-12T14:21:46.400Z"
   },
   {
    "duration": 44,
    "start_time": "2022-10-06T18:20:13.787Z"
   },
   {
    "duration": 4476,
    "start_time": "2022-10-06T18:20:23.959Z"
   },
   {
    "duration": 2689,
    "start_time": "2022-10-06T18:20:28.437Z"
   },
   {
    "duration": 302,
    "start_time": "2022-10-06T18:20:31.127Z"
   },
   {
    "duration": 2221,
    "start_time": "2022-10-06T18:20:31.432Z"
   },
   {
    "duration": 179,
    "start_time": "2022-10-06T18:20:33.655Z"
   },
   {
    "duration": 195,
    "start_time": "2022-10-06T18:20:43.532Z"
   },
   {
    "duration": 3541,
    "start_time": "2022-10-06T18:22:06.241Z"
   },
   {
    "duration": 2318,
    "start_time": "2022-10-06T18:22:09.783Z"
   },
   {
    "duration": 317,
    "start_time": "2022-10-06T18:22:12.102Z"
   },
   {
    "duration": 2328,
    "start_time": "2022-10-06T18:22:12.422Z"
   },
   {
    "duration": 186,
    "start_time": "2022-10-06T18:22:14.751Z"
   },
   {
    "duration": 192,
    "start_time": "2022-10-06T18:22:14.939Z"
   },
   {
    "duration": 665548,
    "start_time": "2022-10-06T18:22:15.132Z"
   },
   {
    "duration": 70,
    "start_time": "2022-10-06T18:33:20.681Z"
   },
   {
    "duration": 4652,
    "start_time": "2022-10-06T18:33:20.752Z"
   },
   {
    "duration": 4,
    "start_time": "2022-10-06T18:33:25.407Z"
   },
   {
    "duration": 129718,
    "start_time": "2022-10-06T18:33:25.412Z"
   },
   {
    "duration": 4,
    "start_time": "2022-10-06T18:35:35.132Z"
   },
   {
    "duration": 9351781,
    "start_time": "2022-10-06T18:35:35.137Z"
   },
   {
    "duration": 5,
    "start_time": "2022-10-06T21:11:26.919Z"
   },
   {
    "duration": 12,
    "start_time": "2022-10-06T21:11:26.925Z"
   },
   {
    "duration": 155,
    "start_time": "2022-10-06T21:11:26.939Z"
   }
  ],
  "kernelspec": {
   "display_name": "Python 3 (ipykernel)",
   "language": "python",
   "name": "python3"
  },
  "language_info": {
   "codemirror_mode": {
    "name": "ipython",
    "version": 3
   },
   "file_extension": ".py",
   "mimetype": "text/x-python",
   "name": "python",
   "nbconvert_exporter": "python",
   "pygments_lexer": "ipython3",
   "version": "3.9.7"
  },
  "toc": {
   "base_numbering": 1,
   "nav_menu": {},
   "number_sections": true,
   "sideBar": true,
   "skip_h1_title": true,
   "title_cell": "Содержание",
   "title_sidebar": "Contents",
   "toc_cell": true,
   "toc_position": {
    "height": "calc(100% - 180px)",
    "left": "10px",
    "top": "150px",
    "width": "302.391px"
   },
   "toc_section_display": true,
   "toc_window_display": true
  }
 },
 "nbformat": 4,
 "nbformat_minor": 2
}
